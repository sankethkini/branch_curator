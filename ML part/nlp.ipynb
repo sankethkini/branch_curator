{
 "cells": [
  {
   "cell_type": "markdown",
   "metadata": {},
   "source": [
    "### loading the dataset "
   ]
  },
  {
   "cell_type": "code",
   "execution_count": 1,
   "metadata": {},
   "outputs": [],
   "source": [
    "import sklearn.datasets as skd\n",
    "\n",
    "categories = ['android', 'blockchain','cloud', 'ML','webdev']\n",
    "news_train = skd.load_files('C:/Users/Sanketh/Desktop/newproject/ML part/dataset/train', categories= categories, encoding= 'ISO-8859-1')"
   ]
  },
  {
   "cell_type": "code",
   "execution_count": 2,
   "metadata": {},
   "outputs": [
    {
     "data": {
      "text/plain": [
       "{'data': ['Backend development (also stylized as back-end or back end development) is the skill that powers the web. Yet it does it modestly, without fanfareâ\\x80\\x94allowing people to browse their favorite sites without even knowing about all the work put in by the backend developer or team.\\r\\nFront-end Vs Backend Programming\\r\\n\\r\\nIntuitively, the other side of backend development is the front end. \\r\\n\\r\\nThe key difference is that while backend developers build how a website functions, front-end programmers build and design the interface, determining how the site looks to users. \\r\\n\\r\\nBackend web development lays the foundational code that enables websites to process the actions that users take on the front end and deliver the correct information in return.\\r\\nPHP powers 78.2% of all websites whose server-side programming language we know. The language was first released in 1995 when there were few options for building dynamic websites.\\r\\nwebsite website \\r\\nASP.NET is Microsoftâ\\x80\\x99s answer to Sun Microsystemâ\\x80\\x99s (now, Oracle) Java. The web application framework is used to build websites using languages like Visual Basic (VB), C#, F#, and more.\\r\\n\\r\\nIts MVC (Model-View-Controller) architectural pattern allows backend development duties to be handled by a controller, which interacts with a model to process data. The result is then presented to the view for display as a frontend web page.\\r\\nRuby on Rails (or Ruby) is a web development language built on top of the Ruby programming language. Ruby on Rails has a set of tools that allow you to simply create basic tasks (e.g. youâ\\x80\\x99re able to create a basic blog with one line of code).\\r\\n\\r\\nRuby involves little backend work, enabling developers to create and launch applications quickly. It is similar to Python in that itâ\\x80\\x99s fantastic for prototyping. Ruby grew in popularity in the early 2000s as a result but has declined since then.\\r\\nwebsite web websites\\r\\nNot to be confused with Java, JavaScript is a language that can be used for both the front end and back end.\\r\\n\\r\\nItâ\\x80\\x99s a great language for beginners because it is a higher-level language and there is little setup involved (you can start coding in your browser).\\r\\nAs you would probably already be aware, in a typical client-server architecture, application data is stored in the server-side and served as output to the client-side. The server-side working of a web application is known as backend. Thatâ\\x80\\x99s where all the inner working of web applications takes place, and thatâ\\x80\\x99s where the work of backend developers lies.\\r\\n',\n",
       "  'Classification is a large domain in the field of statistics and machine learning. Generally, classification can be broken down into two areas:\\r\\n\\r\\n    Binary classification, where we wish to group an outcome into one of two groups.\\r\\n\\r\\n    Multi-class classification, where we wish to group an outcome into one of multiple (more than two) groups.\\r\\n\\r\\nIn this post, the main focus will be on using a variety of classification algorithms across both of these domains, less emphasis will be placed on the theory behind them.\\r\\n\\r\\nWe can use libraries in Python such as scikit-learn for machine learning models, and Pandas to import data as data frames.\\r\\n\\r\\n\\r\\nFor binary classification, we are interested in classifying data into one of two binary groups - these are usually represented as 0\\'s and 1\\'s in our data.\\r\\n\\r\\nWe will look at data regarding coronary heart disease (CHD) in South Africa. The goal is to use different variables such as tobacco usage, family history, ldl cholesterol levels, alcohol usage, obesity and more.\\r\\n\\r\\nA full description of this dataset is available in the \"Data\" section of the Elements of Statistical Learning website.\\r\\n\\r\\nThe code below reads the data into a Pandas data frame, and then separates the data frame into a y vector of the response and an X matrix of explanatory.\\r\\nLogistic Regression\\r\\n\\r\\nLogistic Regression is a type of Generalized Linear Model (GLM) that uses a logistic function to model a binary variable based on any kind of independent variables.\\r\\n\\r\\nTo fit a binary logistic regression with sklearn, we use the LogisticRegression module with multi_class set to \"ovr\" and fit X and y.\\r\\n\\r\\nWe can then use the predict method to predict probabilities of new data, as well as the score method to get the mean prediction accuracy:\\r\\nSupport Vector Machines\\r\\n\\r\\nSupport Vector Machines (SVMs) are a type of classification algorithm that are more flexible - they can do linear classification, \\r\\nbut can use other non-linear basis functions. The following example uses a linear classifier to fit a hyperplane that separates the data into two classes:\\r\\nNeural Networks\\r\\n\\r\\nNeural Networks are a machine learning algorithm that involves fitting many hidden layers used to represent neurons that are connected with synaptic activation functions. These essentially use a very simplified model of the brain to model and predict data.\\r\\n\\r\\nWe use sklearn for consistency in this post, however libraries such as Tensorflow and Keras are more suited to fitting and customizing neural networks, of which there are a few varieties used for different purposes:',\n",
       "  \"\\r\\nBasic setup and learning how to learn\\r\\nWeb standards and best practices (such as accessibility and cross-browser compatibility)\\r\\nHTML, the language that gives web content structure and meaning\\r\\nCSS, the language used to style web pages\\r\\nJavaScript, the scripting language used to create dynamic functionality on the web\\r\\nTooling that is used to facilitate modern client-side web development.\\r\\n\\r\\nYou can work through sections in order, but each one is also self-contained. For example, if you already know HTML, you can skip ahead to the CSS section.\\r\\nBy the end of the course, you'll have all the tools and practical knowledge necessary to build visually rich Single page Web applications, try your luck with job interviews and kickstart your career as a Front End Developer!\\r\\nAfter completion you'll have touched upon the comprehensive curriculum of a Junior Front End Developer. Try your luck, applying for jobs, getting feedbacks and improving on the solid foundations built during this course!\\r\\nWith the solid foundations acquired in this course, it will be much way easier to approach web articles and resources on Front End Development, armed with the necessary background and lingo to make the most out of them, learn effectively and quickly.\\r\\nWith the basics knowledge out of the way, the world is your oyster! Expand on the foundational knowledge acquired and specialize in further niches AngularJs, EmberJs, Gaming, Full Stack Development\\r\\n\",\n",
       "  '\\r\\nBlockchain is a specific type of database.\\r\\nIt differs from a typical database in the way it stores information; blockchains store data in blocks that are then chained together. \\r\\nAs new data comes in it is entered into a fresh block. Once the block is filled with data it is chained onto the previous block, which makes the data chained together in chronological order.\\r\\nDifferent types of information can be stored on a blockchain but the most common use so far has been as a ledger for transactions. \\r\\nIn Bitcoinâ\\x80\\x99s case, blockchain is used in a decentralized way so that no single person or group has controlâ\\x80\\x94rather, all users collectively retain control.\\r\\nDecentralized blockchains are immutable, which means that the data entered is irreversible. For Bitcoin, this means that transactions are permanently recorded and viewable to anyone.\\r\\nDapps dapps smart contract\\r\\nBlockchain seems complicated, and it definitely can be, but its core concept is really quite simple. A blockchain is a type of database. To be able to understand blockchain, it helps to first understand what a database actually is.  \\r\\netherium\\r\\nBecause of the decentralized nature of Bitcoinâ\\x80\\x99s blockchain, all transactions can be transparently viewed by either having a personal node or by using blockchain explorers that allow anyone to see transactions occurring live. \\r\\nEach node has its own copy of the chain that gets updated as fresh blocks are confirmed and added. \\r\\nThis means that if you wanted to, you could track Bitcoin wherever it goes.  \\r\\nBlockchain technology accounts for the issues of security and trust in several ways. First, new blocks are always stored linearly and chronologically. \\r\\nThat is, they are always added to the â\\x80\\x9cendâ\\x80\\x9d of the blockchain. If you take a look at Bitcoinâ\\x80\\x99s blockchain, youâ\\x80\\x99ll see that each block has a position on the chain, called a â\\x80\\x9cheight.â\\x80\\x9d \\r\\nAs of November 2020, the blockâ\\x80\\x99s height had reached 656,197 blocks so far.  \\r\\nBlockchain forms the bedrock for cryptocurrencies like Bitcoin. The U.S. dollar is controlled by the Federal Reserve. Under this central authority system, a userâ\\x80\\x99s data and currency are technically at the whim of their bank or government. If a userâ\\x80\\x99s bank is hacked, the clientâ\\x80\\x99s private information is at risk\\r\\nUsing cryptocurrency wallets for savings accounts or as a means of payment is especially profound for those who have no state identification. Some countries may be war-torn or have governments that lack any real infrastructure to provide identification. Citizens of such countries may not have access to savings or brokerage accounts and therefore, no way to safely store wealth. \\r\\nA smart contract is a computer code that can be built into the blockchain to facilitate, verify, or negotiate a contract agreement. Smart contracts operate under a set of conditions that users agree to. When those conditions are met, the terms of the agreement are automatically carried out. \\r\\nAs mentioned, blockchain could be used to facilitate a modern voting system. Voting with blockchain carries the potential to eliminate election fraud and boost voter turnout, as was tested in the November 2018 midterm elections in West Virginia.Using blockchain in this way would make votes nearly impossible to tamper with',\n",
       "  'Learn how to build a blockchain app using Ethereum smart contracts in this video course from Dapp University.\\r\\nA smartcontract is a collection of code and data that resides at a specific address on the Ethereum blockchain.\\r\\nSo you wanna build a smart contract? Perhaps you want to understand how they work, maybe you want to build your own Dapp, maybe you want to launch the very first billion dollar ICO (sarcasm)... Regardless of your intentions, learning how smart contracts work is invaluable.\\r\\nThe Ethereum platform possesses enormous potential to create Dapps that could change the way we interact on the web in the decades to come. While Ethereum deploys smart contracts that work much like a standard blockchain transaction, they yield a conditional statement that must be met before a function(s) is executed. Smart contracts can be used for voting, crowdfunding, blind auctions, multi-signature wallets and MUCH more.\\r\\nEthereum Nodes\\r\\nBuilding A Private Blockchain Network\\r\\nMetaMask Browser Plug In\\r\\nMist Browser\\r\\nEthereum Wallet\\r\\nWeb3 Ethereum JavaScript API\\r\\nRemix Web Browser IDE\\r\\nGeth (Go Ethereum) Command Line Interface\\r\\nSolidity Programming Language\\r\\nMetaMask is both an Ethereum browser and a wallet. Through MetaMask you can interact with Dapps and smart contracts on the web without having to download the blockchain or install any software. You simply add MetaMask to  as an extensions, create a wallet, and deposit ether. While currently only available for expect to see a launch for Firefox in the near future.\\r\\nBtw I wrote a book about Ethereum development to learn solidity from scratch where youâ\\x80\\x99ll learn the most important concepts for becoming an Ethereum Developer fast. Check it out here, free for kindle unlimited usNQ',\n",
       "  '\\r\\n\\r\\nIs now a good time to become a web developer\\r\\nWhat is web development?\\r\\nA brief history of the World Wide Web\\r\\nWhat does a web developer do?\\r\\nProgramming languages, libraries and frameworks\\r\\nWhat does it take to become a web developer?\\r\\n\\r\\nFeel free to skip ahead using the clickable menu\\r\\nWeb development is the process of building websites and applications for the internet, or for a private network known as an intranet.\\r\\nWeb development is not concerned with the design of a website;\\r\\nrather, itâ\\x80\\x99s all about the coding and programming that powers the websiteâ\\x80\\x99s functionality.\\r\\n\\r\\nClient-side scripting, or frontend development, refers to everything that the end user experiences directly. \\r\\nClient-side code executes in a web browser and directly relates to what people see when they visit a website. Things like layout, fonts, colours, menus and contact forms are all driven by the frontend.\\r\\nServer-side scripting, or backend development, is all about what goes on behind the scenes. The backend is essentially the part of a website that the user doesnâ\\x80\\x99t actually see. It is responsible for storing and organizing data',\n",
       "  'If you are interested in programming for Android, you will need at least basic understanding of how to program in Java. Android programming is done using Java syntax, plus a class library that resembles a subset of the Java SE library (plus Android-specific extensions). \\r\\nIf you have not programmed in Java before, you probably should quick learn how that works before attempting to dive into programming for Android. \\r\\nThe book does not cover in any detail how to download or install the Android development tools, either the Eclipse IDE flavor or the standalone flavor. The Android Web site covers this quite nicely. \\r\\nThe material in the book should be relevant whether you use the IDE or not. You should download, install, \\r\\nand test out the Android development tools from the Android Web site before trying any of the examples listed in this book.\\r\\nTo jump start your Android development, download theAndroid SDK (for Linux) from http://code.google.com/android/download.html. It includes sample projects withsource code, development tools, an emulator, and ofcourse all the libraries youâ\\x80\\x99ll need to build an Androidapplication.Developing Android applicationsYou can develop Android applications with the same high-quality tools you use to develop Java applications. \\r\\nTheAndroid core libraries provide the functionality needed tobuild some amazingly rich mobile applications, and theAndroid development tools make running, debugging andtesting your applications a snap.\\r\\nYou can either use the Eclipse IDE (http://www.eclipse.org) or the command line tools available withthe SDK to develop your Android app.Android development with EclipseLife is made a lot simpler with the Eclipse plug-in forAndroid development, called the Android DevelopmentTools (ADT). It basically brings the power of the IDE toAndroid development. Refer to http://code.google.com/android/adt_download.html for download and installationinstructions.\\r\\nAndroid development sans EclipseThe Android SDK is bundled with all the tools to enablenon-Eclipse users to write their Android application. Inorder to do so, navigate to the â\\x80\\x98tools/â\\x80\\x99 folder in theextracted Android SDK folder. There is a Python scriptcalled activityCreator.py. \\r\\nYou get the following terminaloutput when you run the scrip\\r\\nThe emulator is essentially meant to test your Androidapplications. It resides under the â\\x80\\x98tools/â\\x80\\x99 directory. Forinstructions on how you can test your just-developedAndroid application on the emulator, please refer to theAndroid SDK documentation. The emulator also shipswith a plethora of applications like a browser, a cooler-than-traditional phonebook and a map application, amongother features. So, even if you have not yet written anAndroid application, the emulator is a must checkout.\\r\\nt is still a matter of speculation as to when Androidwill make it into mainstream mobile phones, but it isdefinitely on its way and deserves a serious look from thedevelopers. The Android SDK documentation is extensive\\r\\nmobile application \\r\\nandroid app\\r\\nsdk\\r\\nkotlin\\r\\ndart\\r\\nflutter\\r\\nflutter\\r\\nflutter\\r\\nflutter',\n",
       "  \"Like  real  clouds  which  are  the  collection  of  water  molecules,  the  term   Ì³cloudâ\\x80\\x98  in  cloud  computing  is  the collection of networks. The user can use the modalities of cloud computing boundlessly whenever demanded. Instead of setting up their own physical infrastructure, the users ordinarily prefer a mediator provider for the service of the internet in cloud computing. \\r\\nThe users have to pay only for the services they had used . The workload can be shifted to reduce the workload in cloud computing. A load of service is handled by the networks which forms the cloud that's why the load on local computers is not heavy while running an application [1]. So the requisition of hardware and software at the user side  is decreased.  All we need to have a web browser to use cloud computing. \\r\\nAll we  need to have a web  browser  like chrome to use cloud computing. Following are the key features of cloud computing: \\r\\nResource Pooling and Elasticity  Self-Service and On-Demand Services I.III Pricing I.IV Quality of Service  There  are  three  services  provided  by  cloud  computing  that  are  Software  as  a  Service  (SaaS),  Platform  as  a Service  (PaaS)  and  Infrastructure  as  a  Service  (IaaS) .  \\r\\nThe  basic  examples  of  cloud  computing  which are  used  by general people in daily life are Facebook, YouTube, Dropbox, and Gmail etc. It offers scalability, flexibility, agility, and simplicity that's why its use is rapidly increasing in the enterprises.  \\r\\nNetwork of Cloud  .  EVOLUTION OF CLOUD COMPUTING One day in a speech at MIT around in 1960 John McCarthy indicated that like water and electricity, computing can also be sold like a utility. And in 1999, the Salesforce Company started distributing the applications to the customers \\r\\n Public Cloud: The public cloud is a computing service supplied by the third party providers atop the public internet [6]. These services are available  for any user who wants to use them and they  have to pay only  for the services they consumed.\\r\\n Private  Cloud: The  computing  services  provided  over  the  internet  or  private  network  come  under  the private cloud and these services are offered only to the selected users in place of common people \\r\\nA higher security and privacy is delegated by private clouds through the firewall and internal hosting .\\r\\n Hybrid  Cloud: Hybrid  cloud  is  the  combination  of  public  cloud  and  private  cloud.\\r\\n  In  the  hybrid  cloud, each cloud can be managed independently but data and applications can be shared among the clouds in the hybrid cloud\",\n",
       "  'Although, you can use both Kotlin and Java to  native android apps, Google announced in 2019 to make Kotlin the preferred way of developing android applications. \\r\\nIf you were to start learning android development today, Kotlin should be your language of choice.\\r\\nAndroid is an open source and Linux-based operating system for mobile devices such as smartphones and tablet computers. Android was developed by the Open Handset Alliance, led by Google, and other companies.\\r\\nThis  will teach you basic Android programming and will also take you through some advance concepts related to Android application development.\\r\\nThis  has been prepared for the beginners to help them understand basic Android programming. After completing this tutorial you will find yourself at a moderate level of expertise in Android programming from where you can take yourself to next levels.\\r\\nAndroid programming is based on Java programming language so if you have basic understanding on Java programming then it will be a fun to learn Android application development.\\r\\n\\r\\nIntroduction to Android development with Android Studio\\r\\n\\r\\nAndroid Development with Android Studio\\r\\nAndroid Development with Kotlin\\r\\n\\t\\r\\nAndroid Intents\\r\\n\\r\\nAndroid application and activity life cycle\\r\\n\\r\\nThe Android permissions model\\r\\n\\r\\nUsing lists and grids in Android with RecylerView\\r\\n\\r\\nUsing Databinding in Android applications\\r\\n\\r\\nUsing lists in Android (ListView)\\r\\n\\r\\nAndroid Logging\\r\\n\\r\\n',\n",
       "  'machine learning today is not like machine learning of the past. It was born from pattern recognition and the theory that computers can learn without being programmed to perform specific tasks; researchers interested in artificial intelligence wanted to see if computers could learn from data. The iterative aspect of machine learning is important because as models are exposed to new data, they are able to independently adap\\r\\nWhile many machine learning algorithms have been around for a long time, the ability to automatically apply complex mathematical calculations to big data â\\x80\\x93 over and over, faster and faster â\\x80\\x93 is a recent development. Here are a few widely publicized examples of machine learning applications you may be familiar with\\r\\nResurging interest in machine learning is due to the same factors that have made data mining and Bayesian analysis more popular than ever. Things like growing volumes and varieties of available data, computational processing that is cheaper and more powerful, and affordable data storage.\\r\\n\\r\\nAll of these things mean it\\'s possible to quickly and automatically produce models that can analyze bigger, more complex data and deliver faster, more accurate results â\\x80\\x93 even on a very large scale. And by building precise models, an organization has a better chance of identifying profitable opportunities â\\x80\\x93 or avoiding unknown risks.\\r\\nMachine learning ML is the study of computer algorithms that improve automatically through experience and by the use of data. \\r\\nIt is seen as a part of artificial intelligence.\\r\\n Machine learning algorithms build a model based on sample data, known as \"training data\", in order to make predictions or decisions without being explicitly programmed to do so\\r\\nMachine learning algorithms are used in a wide variety of applications, such as in medicine, email filtering, and computer vision, where it is difficult or unfeasible to  conventional algorithms to perform the needed tasks. \\r\\nA subset of machine learning is closely related to computational statistics, which focuses on making predictions using  but not all machine learning is statistical learning. The study of mathematical optimization delivers methods, theory and application domains to the field of machine learning. Data mining is a related field of study, focusing on exploratory data analysis through unsupervised learning.\\r\\nIn its application across business problems,\\r\\n\\r\\n\\r\\nArtificial intelligence\\r\\nData mining\\r\\nOptimization\\r\\n\\r\\nStatistics\\r\\n\\r\\n Supervised learning\\r\\n Unsupervised learning\\r\\nSemi-supervised learning\\r\\n Reinforcement learning\\r\\n Dimensionality Reduction\\r\\nOther types\\r\\n Models\\r\\n  Training models machine learning is also referred to as predictive analytics. ',\n",
       "  'We are excited to announce that Android Studio 4.2 is now available to download in the stable release channel. \\r\\nThe focus areas for this release is an upgraded IntelliJ platform and a handful of new features centered around improving your productivity as an Android app developer. \\r\\nWe know sometimes upgrading your app project to the latest version can be complicated. To address this, \\r\\nwe have a new app project upgrade assistant in Android Studio 4.2 that makes it easier to migrate your project and to take advantage of the latest Android Gradle Plugin APIs.\\r\\nAdditionally, we have added a whole range of enhancements to the existing features like the Database Inspector, System Trace, SafeArgs support, Apply Changes, the new project wizard and more. \\r\\nIf you use these features and you are looking for the next stable version of Android Studio, \\r\\nyou should download Android Studio 4.2 today! \\r\\nNative development for Android devices consists of this basic toolset: an SDK, IDEs, programming languages, libraries, and plugins. Letâ\\x80\\x99s see what products you can use to form your own tech stack.\\r\\n\\r\\nSoftware Development Kit. An SDK is a bundle of tools that comprises an executable program. This includes documentation, debuggers, emulators, frameworks, libraries, profilers, and more. Android SDK is already included in Android Studio, but if you want to use another IDE, \\r\\nyou can download it separately at the bottom of the linked page.\\r\\n\\r\\nEditors and IDEs. In theory, you can write Android apps in a regular text editor or command line, but the common approach is using an Integrated Development Environment. This tool integrates all SDK tools and helps to manage them more easily and in a more user-friendly manner.\\r\\nAndroid Studio is the official Android IDE, but other options are also popular.\\r\\n Eclipse is Studioâ\\x80\\x99s predecessor that can use plugins to expand the code to more languages. IntelliJ IDEA is a paid but highly customizable option.',\n",
       "  'Simply put, cloud computing is the delivery of computing servicesâ\\x80\\x94including servers, storage, databases, networking, software, analytics, and intelligenceâ\\x80\\x94over the Internet (â\\x80\\x9cthe cloudâ\\x80\\x9d) to offer faster innovation, flexible resources, and economies of scale. You typically pay only for cloud services you use, helping lower your operating costs, run your infrastructure more efficiently and scale as your business needs change.\\r\\nmicrosoft azure azure azure aws aws aws aws gcp cloud gcp\\r\\not all clouds are the same and not one type of cloud computing is right for everyone. Several different models, types and services have evolved to help offer the right solution for your needs.\\r\\n\\r\\nFirst, you need to determine the type of cloud deployment or cloud computing architecture, that your cloud services will be implemented on. There are three different ways to deploy cloud services: on a public cloud, private cloud or hybrid cloud. Learn more about public, private and hybrid clouds.\\r\\nInfrastructure as a service (IaaS)\\r\\n\\r\\nThe most basic category of cloud computing services. With IaaS, you rent IT infrastructureâ\\x80\\x94servers and virtual machines (VMs), storage, networks, operating systemsâ\\x80\\x94from a cloud provider on a pay-as-you-go basis.\\r\\nPlatform as a service (PaaS)\\r\\n\\r\\n',\n",
       "  'You node have a file of transactions on your computer ledger Two government accountants (let\\'s call them miners have the same file on theirs so itâ\\x80\\x99s distributed As you make a transaction, your computer sends an e-mail to each accountant to inform them.\\r\\n\\r\\nEach accountant rushes to be the first to check whether you can afford it and be paid their salary Bitcoins The first to check and validate hits â\\x80\\x9cREPLY ALLâ\\x80\\x9d, attaching their logic for verifying the transaction proof of work\\r\\n \\r\\nIf the other accountant agrees, everyone updates their file\\r\\n\\r\\nThis concept is enabled by \"Blockchain\" technology\\r\\nBlockchain is a system of recording information in a way that makes it difficult or impossible to change, hack, or cheat the system.\\r\\n\\r\\nA blockchain is essentially a digital ledger of transactions that is duplicated and distributed across the entire network of computer systems on the blockchain. Each block in the chain contains a number of transactions, and every time a new transaction occurs on the blockchain,\\r\\na record of that transaction is added to every participantâ\\x80\\x99s ledger. The decentralised database managed by multiple participants is known as Distributed Ledger Technology (DLT)\\r\\nBlockchain\\r\\nBlockchain applications\\r\\nBlockchain technologies\\r\\nCryptocurrency\\r\\nBlockchain security\\r\\nBitcoin\\r\\nBitcoin security\\r\\nFinTech\\r\\nDigital currencies\\r\\nDistributed ledger technologies\\r\\nSmart contracts\\r\\nPermissioned ledgers\\r\\nEtherium\\r\\netherium',\n",
       "  \"flutter dart kotlin java android app \\r\\nAndroid is a open source mobile operating system basedon  Linux  kernel  developed  by  Google  of  OHA_(OpenHandset  Alliance)  to  develop  Android  mobile  apps2.To  develop  Android  mobile  apps,\\r\\na  set  of  tools  that  areincluded  in  the  Android  SDK  are  needed\\r\\nDuring  Setup  phase  we  install  and  set  up  our \\r\\n   environment   We   also   create   AVDs (Android   Virtual   Devices)   and   connect   hardware devices, on which we can install our applications.Development: During Development phase we prepare  and  develop  our  Android  project,  which  contains  all of the source code ands resource files for our applica-tion.Testing and Verifying\\r\\n During this phase we build our project  into  an  .apk  package,  which  is  installed  and running on the emulator for debugging.Publishing:  During  this  phase  we  prepare  and  build \\r\\n our   application   for   release   and   distribute   release version of our application to users.\\r\\n\\r\\nHow to use Android Studio to build your app.\\r\\nHow to run your app on a device or in the emulator.\\r\\nHow to add interactive buttons.\\r\\nHow to display a second screen when a button is pressed.\\r\\nou write Android apps in the Java programming language using an IDE called Android Studio. Based on JetBrains' IntelliJ IDEA software, Android Studio is an IDE designed specifically for Android development.\\r\\nAndroid Studio provides a complete IDE, including an advanced code editor and app templates. It also contains tools for development, debugging, testing, and performance that make it faster and easier to develop apps. You can use Android Studio to test your apps with a large range of preconfigured emulators, or on your own mobile device. You can also build production apps and publish apps on the Google Play store.\\r\\n\\r\\n How to create a project in Android Studio.\\r\\nHow to create an emulated Android device.\\r\\nHow to run your app on the emulator.\\r\\nHow to run your app on your own physical device, if you have one.\\r\\n\\r\\n\",\n",
       "  '\\r\\n\\r\\nEvery Web Developer must have a basic understanding of HTML, CSS, and JavaScript.\\r\\n\\r\\nResponsive Web Design is used in all types of modern web development.\\r\\n\\r\\nECMAScript 5 (JavaScript 5) is supported in all modern browsers. Take a good look at it, especially the new array functions.\\r\\n\\r\\n\\r\\nWhen you feel comfortable with HTML and CSS, it is time to dig deeper.\\r\\n\\r\\nYou should learn how to use Maps, Fonts and Icons in HTML.\\r\\n\\r\\nOn the JavaScript side, you should learn how to access the HTML DOM.\\r\\n\\r\\nYou should also learn how to use AJAX and JSON for making server requests.\\r\\n\\r\\n\\r\\nNow it is time to look at some Frameworks.\\r\\n\\r\\nOn the CSS side you should choose a framework for reponsive web design:\\r\\nBootstrap    Material Design    W3.CSS\\r\\n\\r\\nOn the JavaScript side you should learn at least one modern framework:\\r\\nReact.js    Angular.js    Vue.js     W3.JS\\r\\n\\r\\nMaybe the popularity of jQuery has passed the top, but it is still the most used JavaScript framework.\\r\\n\\r\\nNode.js backend frontend\\r\\nfullstack\\r\\n\\r\\nProgram a browser like using JavaScript, jQuery, Angular, or Vue\\r\\nProgram a server like using PHP, ASP, Python, or Node\\r\\nProgram a database like using SQL, SQLite, or MongoDB\\r\\n\\r\\nLAMP stack JavaScript    Apache    PHP\\r\\nLEMP stack JavaScript    Nginx    PHP\\r\\nMEAN stack JavaScript  MongoDB  Express  AngularJS  Node.js\\r\\nDjango stack JavaScript  Python  Django  \\r\\nRuby on Rails JavaScript  Ruby  SQLite  Rails\\r\\n\\r\\n',\n",
       "  'Applications that use blockchain are called dApps (Decentralised Applications). Looking around today, weâ\\x80\\x99ll mostly find decentralized apps in fintech, but blockchain goes beyond decentralized finance. We have health platforms, music streaming/sharing platforms, e-commerce platforms, cybersecurity platforms, and IOTs moving towards decentralized applications (dApps) as cited above.\\r\\n\\r\\nSo, when would it make sense to consider using blockchain for our applications, rather than a standard database or record?\\r\\n\\r\\n',\n",
       "  '\\r\\n\\r\\nArtificial intelligence\\r\\nData mining\\r\\nOptimization\\r\\n\\r\\nStatistics\\r\\n\\r\\n Supervised learning\\r\\n Unsupervised learning\\r\\nSemi-supervised learning\\r\\n Reinforcement learning\\r\\n Dimensionality Reduction\\r\\nOther types\\r\\n Models\\r\\n  Training models',\n",
       "  'Document/Text classification is one of the important and typical task in supervised machine learning (ML). Assigning categories to documents, which can be a web page, library book, media articles, gallery etc. has many applications like e.g. spam filtering, email routing, sentiment analysis etc. In this article, \\r\\nI would like to demonstrate how we can do text classification using python, \\r\\nscikit-learn and little bit of NLTK.\\r\\n\\r\\nrerequisite and setting up the environment.\\r\\nLoading the data set in jupyter.\\r\\nExtracting features from text files.\\r\\nRunning ML algorithms.\\r\\nGrid Search for parameter tuning.\\r\\nUseful tips and a touch of NLTK.\\r\\n\\r\\n\\r\\nArtificial intelligence\\r\\nData mining\\r\\nOptimization\\r\\n\\r\\nStatistics\\r\\n\\r\\n Supervised learning\\r\\n Unsupervised learning\\r\\nSemi-supervised learning\\r\\n Reinforcement learning\\r\\n Dimensionality Reduction\\r\\nOther types\\r\\n Models\\r\\n  Training models\\r\\n\\r\\nText files are actually series of words (ordered). In order to run machine learning algorithms we need to convert the text files into numerical feature vectors.\\r\\n We will be using bag of words model for our example. Briefly, we segment each text file into words (for English splitting by space), and count # of times each \\r\\nword occurs in each document and finally assign each word an integer id. Each unique word in our dictionary will correspond to a feature (descriptive feature).\\r\\nhere are various algorithms which can be used for text classification. We will start with the most simplest one â\\x80\\x98Naive Bayes \\r\\n\\r\\nYou can easily build a NBclassifier in scikit using below 2 lines of code.\\r\\n\\r\\nThe dataset used in this article is the Cleveland Heart Disease dataset taken from the UCI repository.\\r\\nThe code for this article can be found here.\\r\\nThe code is implemented in Python and different classification models are applied.\\r\\n\\r\\nIn this article I will be using the following classification models for classification :\\r\\n\\r\\nSVM\\r\\nNaive Bayes\\r\\nLogistic Regression\\r\\nDecision Tree\\r\\nRandom Forest\\r\\nLightGBM\\r\\nXGboost\\r\\n\\r\\nMachine Learning\\r\\n\\r\\nMachine learning is an emerging subdivision of artificial intelligence. Its primary focus is to design systems, allow them to learn and make predictions based on the experience. It trains machine learning algorithms using a training dataset to create a model.\\r\\nThe model uses the new input data to predict heart disease. Using machine learning, it detects hidden patterns in the input dataset to build models. It makes accurate predictions for new datasets. The dataset is cleaned and missing values are filled. The model uses the new input data to predict heart disease and then tested for accuracy. \\r\\nMachine learning techniques are classified as:\\r\\nSupervised Learning\\r\\n\\r\\nThe model is trained on a dataset that is labelled. It has input data and its outcomes. Data are classified and split into training and test dataset. Training dataset trains our model while testing dataset functions as new data to get accuracy of the model. The dataset exists with models and its output. The classification and regression are its example.\\r\\nUnsupervised Learning\\r\\n\\r\\nData used to train are not classified or labelled in the dataset. Aim is to find hidden patterns in the data. The model is trained to develop patterns. It can easily predict hidden patterns for any new input dataset, but upon exploring data, it draws conclusion from datasets to describe hidden patterns. \\r\\nIn this technique, no responses in the dataset are seen. The clustering method is an example of an unsupervised learning technique.\\r\\nReinforcement Learning\\r\\n\\r\\nIt does not use labelled dataset nor the results are associated with data, thus model learns from the experience. In this technique, the model improves its presentation based on its association with environment and figures out how to discuss its faults and to get the right outcome through assessment and testing various prospects.\\r\\n\\r\\nClassification algorithms are commonly used supervised learning techniques to define probability of heart disease occurrence.\\r\\nClassification Machine Learning Techniques\\r\\n\\r\\nThe classification task is used for prediction of subsequent cases dependent on past information. Many data mining techniques as NaÃ¯ve Bayes, neural network, decision tree have been applied by researchers to have a precision diagnosis in heart disease.\\r\\nThe accuracy given by different techniques varies with number of attributes.\\r\\nThis research provides diagnostic accuracy score for improvement of better health results. \\r\\nWe have used WEKA tool in this research for pre-processing the dataset, which is in ARFF format (attribute-relation file format). Only 14 attributes of all 76 different attributes have been considered for analysis to get precise results.\\r\\nBy comparison and analysis using different algorithms with WEKA tool heart disease can be predicted and treated early and prompt.',\n",
       "  'Platform as a service refers to cloud computing services that supply an on-demand environment for developing, testing, delivering and managing software applications. PaaS is designed to make it easier for developers to quickly create web or mobile apps, without worrying about setting up or managing the underlying infrastructure of servers, storage, network and databases needed for development.\\r\\nServerless computing\\r\\n\\r\\nOverlapping with PaaS, serverless computing focuses on building app functionality without spending time continually managing the servers and infrastructure required to do so. The cloud provider handles the setup, capacity planning and server management for you. Serverless architectures are highly scalable and event-driven, only using resources when a specific function or trigger occurs.\\r\\nSoftware as a service (SaaS)\\r\\n\\r\\nSoftware as a service is a method for delivering software applications over the Internet, on demand and typically on a subscription basis. With SaaS, cloud providers host and manage the software application and underlying infrastructure and handle any maintenance, like software upgrades and security patching. Users connect to the application over the Internet, usually with a web browser on their phone, tablet or PC.\\r\\nOrganizations of every type, size, and industry are using the cloud for a wide variety of use cases, such as data backup, disaster recovery, email, virtual desktops, software development and testing, big data analytics, and customer-facing web applications. For example, healthcare companies are using the cloud to develop more personalized treatments for patients. Financial services companies are using the cloud to power real-time fraud detection and prevention. And video game makers are using the cloud to deliver online games to millions of players around the world. \\r\\n',\n",
       "  'The paper presents an efficient cloud resource provisioning approach. The Software as a Service (SaaS) provider leases resources from cloud providers and also leases software as services to SaaS users. The SaaS providers aim at minimizing the payment of using VMs from cloud providers, and want to maximize the profit earned through serving the SaaS usersâ\\x80\\x99 requests. The SaaS providers also guarantee meeting quality of service (QoS)\\r\\nrequirements of the SaaS users. The cloud provider is to maximize the profit without exceeding the upper bound of energy consumption of cloud provider for provisioning virtual machines (VMs) to the SaaS provider. The SaaS users purpose to obtain the optimized QoS to accomplish their jobs with a limited budget and deadline. The proposed optimal cloud resource provisioning algorithm includes two sub-algorithms at different levels:\\r\\ninteraction between the SaaS user and SaaS provider at the application layer and interaction between the SaaS provider and cloud resource provider at the resource layer. Simulations are conducted to compare the performance of proposed cloud resource provisioning algorithm with related work.\\r\\nCloud computing refers to both the applications delivered as services over the Internet and the hardware and systems software in the datacenters that provide those services [1, 2]. Cloud computing is characterized as making services available on demand [3]. Cloud computing delivers infrastructure, platform, and software (applications) as services, \\r\\nwhich are made available to consumers as subscription-based services under the pay-as-you-go model. In industry these services are referred to as Infrastructure as a Service (IaaS), Platform as a Service (PaaS), and Software as a Service (SaaS), respectively .\\r\\nCloud management is responsible for all resources used by all the applications deployed in the cloud. Clouds depend on virtualization of resources to provide management combined with separation of users.\\r\\n\\r\\nSome cloud computing providers employ the utility computing model, which is analogous to how traditional utility services (such as electricity) are consumed, whereas others bill on a subscription basis. In Amazon EC2, users pay on the basis of number of type of instances they use, where an instance is characterized on basis of parameters like CPU cores, memory, and disk capacity [5, 6]. With a Pay-per-Use model,\\r\\ncloud resource provisioning is taken to satisfy the SaaS userâ\\x80\\x99s needs with reducing cost while maximizing the profit of the SaaS provider. Reducing energy consumption is also important for cloud resource providers to decrease operating costs and maximize the revenue of cloud provider [7, 8, 25]. Therefore, how to serve request of the SaaS user to meet Quality of Service (QoS) needs and maximize the profit of the SaaS provider and cloud resource provider becomes an urgent problem to be solved in cloud computing environment.\\r\\n\\r\\nThe paper presents an efficient cloud resource provisioning approach, which is beneficial for the SaaS users, SaaS provider and cloud resource provider. The SaaS provider leases resources from cloud providers and also leases software as services to the SaaS users. The SaaS providers aim at minimizing the payment of using Virtual Machines (VMs) from cloud providers, and want to maximize the profit earned through serving the SaaS usersâ\\x80\\x99 requests. The SaaS providers also guarantee meeting QoS requirement of the SaaS users.\\r\\nThe cloud provider is to maximize the profit without exceeding the upper bound of energy consumption of cloud provider for provisioning VMs to the SaaS provider. The SaaS users purpose to obtain the optimized QoS to accomplish their jobs with a limited budget and deadline. The proposed optimal cloud resource provisioning algorithm includes two sub-algorithms at different levels:\\r\\ninteraction between the SaaS user and provider at the application layer and interaction between the SaaS provider and cloud resource provider at the resource layer. Simulations are conducted to compare the performance of proposed cloud resource provisioning algorithm with related work.\\r\\n\\r\\nThe rest of the paper is structured as followings. Section 2 discusses the related works. Section 3 presents optimal resources provisioning in cloud computing environment which includes the optimization for interaction between the SaaS provider and cloud resource provider, and the optimization for interaction between the SaaS user and SaaS provider. Section 4 describes optimal resources provisioning algorithm in cloud computing. \\r\\nIn Sect. 5 the experiments and analysis are conducted and discussed. In Sect. 6, an application example is given. Section 7 gives the conclusions to the paper.'],\n",
       " 'filenames': array(['C:/Users/Sanketh/Desktop/newproject/ML part/dataset/train\\\\webdev\\\\3.txt',\n",
       "        'C:/Users/Sanketh/Desktop/newproject/ML part/dataset/train\\\\ML\\\\2.txt',\n",
       "        'C:/Users/Sanketh/Desktop/newproject/ML part/dataset/train\\\\webdev\\\\4.txt',\n",
       "        'C:/Users/Sanketh/Desktop/newproject/ML part/dataset/train\\\\blockchain\\\\1.txt',\n",
       "        'C:/Users/Sanketh/Desktop/newproject/ML part/dataset/train\\\\blockchain\\\\3.txt',\n",
       "        'C:/Users/Sanketh/Desktop/newproject/ML part/dataset/train\\\\webdev\\\\2.txt',\n",
       "        'C:/Users/Sanketh/Desktop/newproject/ML part/dataset/train\\\\android\\\\3.txt',\n",
       "        'C:/Users/Sanketh/Desktop/newproject/ML part/dataset/train\\\\cloud\\\\2.txt',\n",
       "        'C:/Users/Sanketh/Desktop/newproject/ML part/dataset/train\\\\android\\\\1.txt',\n",
       "        'C:/Users/Sanketh/Desktop/newproject/ML part/dataset/train\\\\ML\\\\3.txt',\n",
       "        'C:/Users/Sanketh/Desktop/newproject/ML part/dataset/train\\\\android\\\\2.txt',\n",
       "        'C:/Users/Sanketh/Desktop/newproject/ML part/dataset/train\\\\cloud\\\\3.txt',\n",
       "        'C:/Users/Sanketh/Desktop/newproject/ML part/dataset/train\\\\blockchain\\\\2.txt',\n",
       "        'C:/Users/Sanketh/Desktop/newproject/ML part/dataset/train\\\\android\\\\4.txt',\n",
       "        'C:/Users/Sanketh/Desktop/newproject/ML part/dataset/train\\\\webdev\\\\1.txt',\n",
       "        'C:/Users/Sanketh/Desktop/newproject/ML part/dataset/train\\\\blockchain\\\\4.txt',\n",
       "        'C:/Users/Sanketh/Desktop/newproject/ML part/dataset/train\\\\ML\\\\4.txt',\n",
       "        'C:/Users/Sanketh/Desktop/newproject/ML part/dataset/train\\\\ML\\\\1.txt',\n",
       "        'C:/Users/Sanketh/Desktop/newproject/ML part/dataset/train\\\\cloud\\\\4.txt',\n",
       "        'C:/Users/Sanketh/Desktop/newproject/ML part/dataset/train\\\\cloud\\\\1.txt'],\n",
       "       dtype='<U74'),\n",
       " 'target_names': ['ML', 'android', 'blockchain', 'cloud', 'webdev'],\n",
       " 'target': array([4, 0, 4, 2, 2, 4, 1, 3, 1, 0, 1, 3, 2, 1, 4, 2, 0, 0, 3, 3]),\n",
       " 'DESCR': None}"
      ]
     },
     "execution_count": 2,
     "metadata": {},
     "output_type": "execute_result"
    }
   ],
   "source": [
    "news_train"
   ]
  },
  {
   "cell_type": "code",
   "execution_count": 3,
   "metadata": {},
   "outputs": [
    {
     "data": {
      "text/plain": [
       "dict_keys(['data', 'filenames', 'target_names', 'target', 'DESCR'])"
      ]
     },
     "execution_count": 3,
     "metadata": {},
     "output_type": "execute_result"
    }
   ],
   "source": [
    "news_train.keys()"
   ]
  },
  {
   "cell_type": "code",
   "execution_count": 4,
   "metadata": {},
   "outputs": [
    {
     "data": {
      "text/plain": [
       "['ML', 'android', 'blockchain', 'cloud', 'webdev']"
      ]
     },
     "execution_count": 4,
     "metadata": {},
     "output_type": "execute_result"
    }
   ],
   "source": [
    "news_train['target_names']"
   ]
  },
  {
   "cell_type": "code",
   "execution_count": 5,
   "metadata": {},
   "outputs": [
    {
     "data": {
      "text/plain": [
       "array([4, 0, 4, 2, 2, 4, 1, 3, 1, 0, 1, 3, 2, 1, 4, 2, 0, 0, 3, 3])"
      ]
     },
     "execution_count": 5,
     "metadata": {},
     "output_type": "execute_result"
    }
   ],
   "source": [
    "news_train['target']"
   ]
  },
  {
   "cell_type": "markdown",
   "metadata": {},
   "source": [
    "### vectorization of sentences "
   ]
  },
  {
   "cell_type": "code",
   "execution_count": 6,
   "metadata": {},
   "outputs": [],
   "source": [
    "from sklearn.feature_extraction.text import CountVectorizer"
   ]
  },
  {
   "cell_type": "code",
   "execution_count": 7,
   "metadata": {},
   "outputs": [
    {
     "name": "stdout",
     "output_type": "stream",
     "text": [
      "print vocabulary{'the': 5, 'quick': 4, 'dog': 0, 'jumped': 1, 'over': 3, 'lazy': 2}\n",
      "\n",
      "\n",
      "feature names['dog', 'jumped', 'lazy', 'over', 'quick', 'the']\n",
      "\n",
      "\n",
      "printing count[[2 1 1 1 1 2]\n",
      " [1 0 0 0 0 1]\n",
      " [0 0 0 0 1 1]]\n"
     ]
    }
   ],
   "source": [
    "text=['the quick dog jumped over the lazy dog',\n",
    "     'the dog',\n",
    "     'the quick']\n",
    "vector=CountVectorizer()\n",
    "vector.fit(text)\n",
    "print('print vocabulary'+str(vector.vocabulary_)+'\\n\\n')\n",
    "print('feature names'+str(vector.get_feature_names())+'\\n\\n')\n",
    "count=vector.transform(text)\n",
    "print('printing count'+str(count.toarray()))"
   ]
  },
  {
   "cell_type": "code",
   "execution_count": 8,
   "metadata": {},
   "outputs": [
    {
     "data": {
      "text/plain": [
       "(20, 1445)"
      ]
     },
     "execution_count": 8,
     "metadata": {},
     "output_type": "execute_result"
    }
   ],
   "source": [
    "count_vec=CountVectorizer(stop_words='english')\n",
    "X_train_tf=count_vec.fit_transform(news_train.data)\n",
    "X_train_tf.shape"
   ]
  },
  {
   "cell_type": "markdown",
   "metadata": {},
   "source": [
    "### Term-frequency inverse document frequency transformation"
   ]
  },
  {
   "cell_type": "code",
   "execution_count": 9,
   "metadata": {},
   "outputs": [
    {
     "name": "stdout",
     "output_type": "stream",
     "text": [
      "Learing frequency[1.28768207 1.69314718 1.69314718 1.69314718 1.28768207 1.        ]\n",
      "\n",
      "\n",
      "tranform matrix on base of learnt frequency[[0.56345652 0.3704388  0.3704388  0.3704388  0.28172826 0.43757425]\n",
      " [0.78980693 0.         0.         0.         0.         0.61335554]\n",
      " [0.         0.         0.         0.         0.78980693 0.61335554]]\n"
     ]
    }
   ],
   "source": [
    "from sklearn.feature_extraction.text import TfidfTransformer\n",
    "transf=TfidfTransformer()\n",
    "transf.fit(count)\n",
    "print('Learing frequency'+str(transf.idf_)+'\\n\\n')\n",
    "freq=transf.transform(count)\n",
    "print('tranform matrix on base of learnt frequency'+str(freq.toarray()))"
   ]
  },
  {
   "cell_type": "code",
   "execution_count": 10,
   "metadata": {},
   "outputs": [
    {
     "data": {
      "text/plain": [
       "(1, 6)"
      ]
     },
     "execution_count": 10,
     "metadata": {},
     "output_type": "execute_result"
    }
   ],
   "source": [
    "text='new text'\n",
    "t=vector.transform([text])\n",
    "transf.transform(t).shape"
   ]
  },
  {
   "cell_type": "code",
   "execution_count": 11,
   "metadata": {},
   "outputs": [
    {
     "data": {
      "text/plain": [
       "(20, 1445)"
      ]
     },
     "execution_count": 11,
     "metadata": {},
     "output_type": "execute_result"
    }
   ],
   "source": [
    "transformer=TfidfTransformer()\n",
    "X_train_tfidf=transformer.fit_transform(X_train_tf)\n",
    "X_train_tfidf.shape"
   ]
  },
  {
   "cell_type": "markdown",
   "metadata": {},
   "source": [
    "### Multinomial naive bayes classification"
   ]
  },
  {
   "cell_type": "code",
   "execution_count": 12,
   "metadata": {},
   "outputs": [],
   "source": [
    "from sklearn.naive_bayes import MultinomialNB\n",
    "clf=MultinomialNB().fit(X_train_tfidf,news_train.target)"
   ]
  },
  {
   "cell_type": "code",
   "execution_count": 13,
   "metadata": {},
   "outputs": [],
   "source": [
    "news_test=skd.load_files('C:/Users/Sanketh/Desktop/newproject/ML part/dataset/test',categories= categories, encoding= 'ISO-8859-1')"
   ]
  },
  {
   "cell_type": "code",
   "execution_count": 14,
   "metadata": {},
   "outputs": [
    {
     "data": {
      "text/plain": [
       "['using etherium voting can be conducted',\n",
       " 'classifying different news groups',\n",
       " 'we are trying to develop a android application for blind people',\n",
       " 'cloud resource provisiong and adaptation',\n",
       " 'backend technology such as nodejs will be used in this project']"
      ]
     },
     "execution_count": 14,
     "metadata": {},
     "output_type": "execute_result"
    }
   ],
   "source": [
    "news_test.data"
   ]
  },
  {
   "cell_type": "code",
   "execution_count": 15,
   "metadata": {},
   "outputs": [],
   "source": [
    "X_test=count_vec.transform(news_test.data)\n",
    "X_test_tfidf=transformer.transform(X_test)\n",
    "pred=clf.predict(X_test_tfidf)"
   ]
  },
  {
   "cell_type": "code",
   "execution_count": 16,
   "metadata": {},
   "outputs": [
    {
     "name": "stdout",
     "output_type": "stream",
     "text": [
      "Accuracy is  1.0\n"
     ]
    }
   ],
   "source": [
    "from sklearn.metrics import accuracy_score\n",
    "print('Accuracy is ',accuracy_score(pred,news_test.target))"
   ]
  },
  {
   "cell_type": "code",
   "execution_count": 17,
   "metadata": {},
   "outputs": [
    {
     "data": {
      "text/plain": [
       "array([2, 0, 1, 3, 4])"
      ]
     },
     "execution_count": 17,
     "metadata": {},
     "output_type": "execute_result"
    }
   ],
   "source": [
    "pred"
   ]
  },
  {
   "cell_type": "code",
   "execution_count": 18,
   "metadata": {},
   "outputs": [
    {
     "data": {
      "text/plain": [
       "(1, 1445)"
      ]
     },
     "execution_count": 18,
     "metadata": {},
     "output_type": "execute_result"
    }
   ],
   "source": [
    "test=['In machine learing prediction method is used']\n",
    "test=count_vec.transform(test)\n",
    "test=transformer.transform(test)\n",
    "test.shape"
   ]
  },
  {
   "cell_type": "code",
   "execution_count": 24,
   "metadata": {},
   "outputs": [
    {
     "data": {
      "text/plain": [
       "<1x1445 sparse matrix of type '<class 'numpy.int64'>'\n",
       "\twith 5 stored elements in Compressed Sparse Row format>"
      ]
     },
     "execution_count": 24,
     "metadata": {},
     "output_type": "execute_result"
    }
   ],
   "source": [
    "vector"
   ]
  },
  {
   "cell_type": "code",
   "execution_count": 28,
   "metadata": {},
   "outputs": [
    {
     "data": {
      "text/plain": [
       "array([4])"
      ]
     },
     "execution_count": 28,
     "metadata": {},
     "output_type": "execute_result"
    }
   ],
   "source": [
    "test=['html css']\n",
    "test=count_vec.transform(test)\n",
    "test=transformer.transform(test)\n",
    "clf.predict(test)"
   ]
  },
  {
   "cell_type": "code",
   "execution_count": 39,
   "metadata": {},
   "outputs": [
    {
     "data": {
      "text/plain": [
       "array([[0.14305821, 0.14989375, 0.15696553, 0.40232029, 0.14776221]])"
      ]
     },
     "execution_count": 39,
     "metadata": {},
     "output_type": "execute_result"
    }
   ],
   "source": [
    "test=['cloud applications in nlp']\n",
    "test=count_vec.transform(test)\n",
    "test=transformer.transform(test)\n",
    "clf.predict_proba(test)"
   ]
  },
  {
   "cell_type": "code",
   "execution_count": null,
   "metadata": {},
   "outputs": [],
   "source": []
  },
  {
   "cell_type": "code",
   "execution_count": 22,
   "metadata": {},
   "outputs": [],
   "source": [
    "import pickle"
   ]
  },
  {
   "cell_type": "code",
   "execution_count": 23,
   "metadata": {},
   "outputs": [],
   "source": [
    "pickle.dump(count_vec, open(\"vector.pickel\", \"wb\"))"
   ]
  },
  {
   "cell_type": "code",
   "execution_count": 24,
   "metadata": {},
   "outputs": [],
   "source": [
    "pickle.dump(transformer,open(\"tfidf.pickel\",\"wb\"))"
   ]
  },
  {
   "cell_type": "code",
   "execution_count": 25,
   "metadata": {},
   "outputs": [],
   "source": [
    "pickle.dump(clf,open(\"nlpmodel.pickel\",\"wb\"))"
   ]
  },
  {
   "cell_type": "code",
   "execution_count": 26,
   "metadata": {},
   "outputs": [
    {
     "name": "stdout",
     "output_type": "stream",
     "text": [
      "appdirs==1.4.3\n",
      "asn1crypto==0.24.0\n",
      "attrs==19.1.0\n",
      "backcall==0.1.0\n",
      "bleach==3.1.0\n",
      "bokeh==2.0.1\n",
      "boto==2.49.0\n",
      "boto3==1.12.11\n",
      "botocore==1.15.11\n",
      "certifi==2019.3.9\n",
      "cffi==1.12.3\n",
      "chardet==3.0.4\n",
      "Click==7.0\n",
      "cloudpickle==1.2.2\n",
      "colorama==0.4.1\n",
      "cryptography==2.6.1\n",
      "cycler==0.10.0\n",
      "decorator==4.4.0\n",
      "defusedxml==0.6.0\n",
      "distlib==0.3.0\n",
      "Django==2.2.2\n",
      "django-crispy-forms==1.7.2\n",
      "django-filter==2.2.0\n",
      "djangorestframework==3.11.0\n",
      "docutils==0.15.2\n",
      "entrypoints==0.3\n",
      "filelock==3.0.12\n",
      "Flask==1.1.1\n",
      "future==0.18.2\n",
      "gensim==3.8.1\n",
      "gym==0.15.4\n",
      "idna==2.8\n",
      "importlib-metadata==1.5.0\n",
      "inflection==0.3.1\n",
      "ipykernel==5.1.1\n",
      "ipython==7.5.0\n",
      "ipython-genutils==0.2.0\n",
      "ipywidgets==7.4.2\n",
      "itsdangerous==1.1.0\n",
      "jedi==0.13.3\n",
      "Jinja2==2.10.1\n",
      "jmespath==0.9.5\n",
      "joblib==0.13.2\n",
      "jsonschema==3.0.1\n",
      "jupyter==1.0.0\n",
      "jupyter-client==5.2.4\n",
      "jupyter-console==6.0.0\n",
      "jupyter-core==4.4.0\n",
      "kiwisolver==1.1.0\n",
      "Markdown==3.2.1\n",
      "MarkupSafe==1.1.1\n",
      "matplotlib==3.0.3\n",
      "mistune==0.8.4\n",
      "more-itertools==5.0.0\n",
      "nbconvert==5.5.0\n",
      "nbformat==4.4.0\n",
      "ndg-httpsclient==0.5.1\n",
      "notebook==5.7.8\n",
      "numpy==1.16.3\n",
      "opencv-python==4.1.2.30\n",
      "packaging==20.3\n",
      "pandas==0.24.2\n",
      "pandocfilters==1.4.2\n",
      "parso==0.4.0\n",
      "pickleshare==0.7.5\n",
      "Pillow==5.3.0\n",
      "prometheus-client==0.7.0\n",
      "prompt-toolkit==2.0.9\n",
      "pyasn1==0.4.5\n",
      "pycparser==2.19\n",
      "pyglet==1.3.2\n",
      "Pygments==2.4.2\n",
      "pyOpenSSL==19.0.0\n",
      "pyparsing==2.4.0\n",
      "pyrsistent==0.15.2\n",
      "python-dateutil==2.8.0\n",
      "pytz==2018.4\n",
      "pywinpty==0.5.5\n",
      "PyYAML==5.3.1\n",
      "pyzmq==18.0.1\n",
      "qtconsole==4.5.1\n",
      "Quandl==3.4.8\n",
      "redis==3.4.1\n",
      "requests==2.22.0\n",
      "s3transfer==0.3.3\n",
      "scikit-learn==0.21.1\n",
      "scipy==1.3.0\n",
      "selenium==3.141.0\n",
      "Send2Trash==1.5.0\n",
      "service-streamer==0.1.2\n",
      "six==1.12.0\n",
      "sklearn==0.0\n",
      "smart-open==1.9.0\n",
      "sqlparse==0.3.1\n",
      "terminado==0.8.2\n",
      "testpath==0.4.2\n",
      "tornado==6.0.2\n",
      "tqdm==4.44.1\n",
      "traitlets==4.3.2\n",
      "twitter==1.18.0\n",
      "typing-extensions==3.7.4.2\n",
      "urllib3==1.25.3\n",
      "virtualenv==20.0.11\n",
      "virtualenvwrapper-win==1.2.6\n",
      "wcwidth==0.1.7\n",
      "webencodings==0.5.1\n",
      "Werkzeug==1.0.0\n",
      "widgetsnbextension==3.4.2\n",
      "zipp==3.1.0\n",
      "Note: you may need to restart the kernel to use updated packages.\n"
     ]
    }
   ],
   "source": [
    "pip freeze"
   ]
  },
  {
   "cell_type": "code",
   "execution_count": 57,
   "metadata": {},
   "outputs": [],
   "source": [
    "c = data.tocoo()                                                                                        \n",
    "df = pd.DataFrame({'node1': c.row, 'node2': c.col, 'edge_weight': c.data}) "
   ]
  },
  {
   "cell_type": "code",
   "execution_count": 58,
   "metadata": {},
   "outputs": [],
   "source": [
    "import pandas as pd"
   ]
  },
  {
   "cell_type": "code",
   "execution_count": 70,
   "metadata": {},
   "outputs": [
    {
     "name": "stdout",
     "output_type": "stream",
     "text": [
      "  (0, 268)\t1\n",
      "  (0, 475)\t1\n",
      "  (0, 1364)\t1\n",
      "  (0, 1398)\t1\n"
     ]
    }
   ],
   "source": [
    "t1=count_vec.transform([news_test.data[0]])\n",
    "print(t1)"
   ]
  },
  {
   "cell_type": "code",
   "execution_count": 71,
   "metadata": {},
   "outputs": [
    {
     "name": "stdout",
     "output_type": "stream",
     "text": [
      "  (0, 1398)\t0.536007290924944\n",
      "  (0, 1364)\t0.2314278815635678\n",
      "  (0, 475)\t0.536007290924944\n",
      "  (0, 268)\t0.6097815213546603\n"
     ]
    }
   ],
   "source": [
    "t2=transformer.transform(t1)\n",
    "print(t2)"
   ]
  },
  {
   "cell_type": "code",
   "execution_count": 72,
   "metadata": {},
   "outputs": [
    {
     "name": "stdout",
     "output_type": "stream",
     "text": [
      "  (0, 219)\t1\n",
      "  (0, 391)\t1\n",
      "  (0, 597)\t1\n"
     ]
    }
   ],
   "source": [
    "t3=count_vec.transform([news_test.data[1]])\n",
    "print(t3)"
   ]
  },
  {
   "cell_type": "code",
   "execution_count": 78,
   "metadata": {},
   "outputs": [
    {
     "name": "stdout",
     "output_type": "stream",
     "text": [
      "(1, 1445)\n"
     ]
    }
   ],
   "source": [
    "t4=transformer.transform(t3)\n",
    "print(t4.shape)"
   ]
  },
  {
   "cell_type": "code",
   "execution_count": 77,
   "metadata": {},
   "outputs": [
    {
     "name": "stdout",
     "output_type": "stream",
     "text": [
      "(1, 1445)\n"
     ]
    }
   ],
   "source": [
    "ne=news_test.data[0]+news_test.data[1]\n",
    "print(transformer.transform(count_vec.transform([ne])).shape)"
   ]
  },
  {
   "cell_type": "code",
   "execution_count": 80,
   "metadata": {},
   "outputs": [],
   "source": [
    "import scipy\n",
    "tra=scipy.sparse.hstack([t2, t4])"
   ]
  },
  {
   "cell_type": "code",
   "execution_count": 92,
   "metadata": {},
   "outputs": [],
   "source": [
    "m=(t2.toarray()+t4.toarray())/2"
   ]
  },
  {
   "cell_type": "code",
   "execution_count": 93,
   "metadata": {},
   "outputs": [
    {
     "data": {
      "text/plain": [
       "array([0])"
      ]
     },
     "execution_count": 93,
     "metadata": {},
     "output_type": "execute_result"
    }
   ],
   "source": [
    "clf.predict(m)"
   ]
  },
  {
   "cell_type": "code",
   "execution_count": 225,
   "metadata": {},
   "outputs": [],
   "source": [
    "text1=['blockchain']\n",
    "text3=['ml machine learning']"
   ]
  },
  {
   "cell_type": "code",
   "execution_count": 214,
   "metadata": {},
   "outputs": [],
   "source": [
    "t1=transformer.transform(count_vec.transform(text3))"
   ]
  },
  {
   "cell_type": "code",
   "execution_count": 226,
   "metadata": {},
   "outputs": [],
   "source": [
    "t=transformer.transform(count_vec.transform(text1))"
   ]
  },
  {
   "cell_type": "code",
   "execution_count": 227,
   "metadata": {},
   "outputs": [
    {
     "name": "stdout",
     "output_type": "stream",
     "text": [
      "  (0, 839)\t0.6653096504335756\n",
      "  (0, 785)\t0.6003390133894425\n",
      "  (0, 740)\t0.4437974065297633\n"
     ]
    }
   ],
   "source": [
    "print(t1)"
   ]
  },
  {
   "cell_type": "code",
   "execution_count": 228,
   "metadata": {},
   "outputs": [
    {
     "name": "stdout",
     "output_type": "stream",
     "text": [
      "  (0, 152)\t1.0\n"
     ]
    }
   ],
   "source": [
    "print(t)"
   ]
  },
  {
   "cell_type": "code",
   "execution_count": 293,
   "metadata": {},
   "outputs": [],
   "source": [
    "k=(t.toarray()+t1.toarray())/2"
   ]
  },
  {
   "cell_type": "code",
   "execution_count": 294,
   "metadata": {},
   "outputs": [
    {
     "name": "stdout",
     "output_type": "stream",
     "text": [
      "0.3326548252167878\n"
     ]
    }
   ],
   "source": [
    "print(k[0][839])"
   ]
  },
  {
   "cell_type": "code",
   "execution_count": 19,
   "metadata": {},
   "outputs": [],
   "source": [
    "from sklearn.metrics.pairwise import cosine_similarity"
   ]
  },
  {
   "cell_type": "code",
   "execution_count": 21,
   "metadata": {},
   "outputs": [
    {
     "ename": "ValueError",
     "evalue": "Incompatible dimension for X and Y matrices: X.shape[1] == 1 while Y.shape[1] == 1445",
     "output_type": "error",
     "traceback": [
      "\u001b[1;31m---------------------------------------------------------------------------\u001b[0m",
      "\u001b[1;31mValueError\u001b[0m                                Traceback (most recent call last)",
      "\u001b[1;32m<ipython-input-21-0748ada689b7>\u001b[0m in \u001b[0;36m<module>\u001b[1;34m\u001b[0m\n\u001b[0;32m      1\u001b[0m \u001b[0mk\u001b[0m\u001b[1;33m=\u001b[0m\u001b[0mtransf\u001b[0m\u001b[1;33m.\u001b[0m\u001b[0mtransform\u001b[0m\u001b[1;33m(\u001b[0m\u001b[0mvector\u001b[0m\u001b[1;33m.\u001b[0m\u001b[0mtransform\u001b[0m\u001b[1;33m(\u001b[0m\u001b[1;33m[\u001b[0m\u001b[1;34m'this is ml project'\u001b[0m\u001b[1;33m]\u001b[0m\u001b[1;33m)\u001b[0m\u001b[1;33m)\u001b[0m\u001b[1;33m\u001b[0m\u001b[0m\n\u001b[0;32m      2\u001b[0m \u001b[0mk\u001b[0m\u001b[1;33m=\u001b[0m\u001b[0mk\u001b[0m\u001b[1;33m.\u001b[0m\u001b[0mtoarray\u001b[0m\u001b[1;33m(\u001b[0m\u001b[1;33m)\u001b[0m\u001b[1;33m\u001b[0m\u001b[0m\n\u001b[1;32m----> 3\u001b[1;33m \u001b[0mcosine_similarity\u001b[0m\u001b[1;33m(\u001b[0m\u001b[0mk\u001b[0m\u001b[1;33m.\u001b[0m\u001b[0mT\u001b[0m\u001b[1;33m,\u001b[0m\u001b[0mX_train_tfidf\u001b[0m\u001b[1;33m)\u001b[0m\u001b[1;33m.\u001b[0m\u001b[0msort\u001b[0m\u001b[1;33m(\u001b[0m\u001b[1;33m)\u001b[0m\u001b[1;33m\u001b[0m\u001b[0m\n\u001b[0m",
      "\u001b[1;32m~\\AppData\\Local\\Programs\\Python\\Python37\\lib\\site-packages\\sklearn\\metrics\\pairwise.py\u001b[0m in \u001b[0;36mcosine_similarity\u001b[1;34m(X, Y, dense_output)\u001b[0m\n\u001b[0;32m   1023\u001b[0m     \u001b[1;31m# to avoid recursive import\u001b[0m\u001b[1;33m\u001b[0m\u001b[1;33m\u001b[0m\u001b[0m\n\u001b[0;32m   1024\u001b[0m \u001b[1;33m\u001b[0m\u001b[0m\n\u001b[1;32m-> 1025\u001b[1;33m     \u001b[0mX\u001b[0m\u001b[1;33m,\u001b[0m \u001b[0mY\u001b[0m \u001b[1;33m=\u001b[0m \u001b[0mcheck_pairwise_arrays\u001b[0m\u001b[1;33m(\u001b[0m\u001b[0mX\u001b[0m\u001b[1;33m,\u001b[0m \u001b[0mY\u001b[0m\u001b[1;33m)\u001b[0m\u001b[1;33m\u001b[0m\u001b[0m\n\u001b[0m\u001b[0;32m   1026\u001b[0m \u001b[1;33m\u001b[0m\u001b[0m\n\u001b[0;32m   1027\u001b[0m     \u001b[0mX_normalized\u001b[0m \u001b[1;33m=\u001b[0m \u001b[0mnormalize\u001b[0m\u001b[1;33m(\u001b[0m\u001b[0mX\u001b[0m\u001b[1;33m,\u001b[0m \u001b[0mcopy\u001b[0m\u001b[1;33m=\u001b[0m\u001b[1;32mTrue\u001b[0m\u001b[1;33m)\u001b[0m\u001b[1;33m\u001b[0m\u001b[0m\n",
      "\u001b[1;32m~\\AppData\\Local\\Programs\\Python\\Python37\\lib\\site-packages\\sklearn\\metrics\\pairwise.py\u001b[0m in \u001b[0;36mcheck_pairwise_arrays\u001b[1;34m(X, Y, precomputed, dtype)\u001b[0m\n\u001b[0;32m    123\u001b[0m         raise ValueError(\"Incompatible dimension for X and Y matrices: \"\n\u001b[0;32m    124\u001b[0m                          \"X.shape[1] == %d while Y.shape[1] == %d\" % (\n\u001b[1;32m--> 125\u001b[1;33m                              X.shape[1], Y.shape[1]))\n\u001b[0m\u001b[0;32m    126\u001b[0m \u001b[1;33m\u001b[0m\u001b[0m\n\u001b[0;32m    127\u001b[0m     \u001b[1;32mreturn\u001b[0m \u001b[0mX\u001b[0m\u001b[1;33m,\u001b[0m \u001b[0mY\u001b[0m\u001b[1;33m\u001b[0m\u001b[0m\n",
      "\u001b[1;31mValueError\u001b[0m: Incompatible dimension for X and Y matrices: X.shape[1] == 1 while Y.shape[1] == 1445"
     ]
    }
   ],
   "source": [
    "k=transf.transform(vector.transform(['this is ml project']))\n",
    "k=k.toarray()\n",
    "cosine_similarity(k.T,X_train_tfidf).sort()"
   ]
  },
  {
   "cell_type": "code",
   "execution_count": 279,
   "metadata": {},
   "outputs": [],
   "source": [
    "j=transformer.transform(count_vec.transform(['this is is related html css']))"
   ]
  },
  {
   "cell_type": "code",
   "execution_count": 298,
   "metadata": {},
   "outputs": [],
   "source": [
    "similarity_scores = X_train_tfidf.dot(j.toarray().T)    # get sorted similarity score indices  \n",
    "sorted_indicies = np.argsort(similarity_scores, axis = 0)[::-1]"
   ]
  },
  {
   "cell_type": "code",
   "execution_count": 299,
   "metadata": {},
   "outputs": [],
   "source": [
    "import numpy as np"
   ]
  },
  {
   "cell_type": "code",
   "execution_count": 300,
   "metadata": {},
   "outputs": [
    {
     "data": {
      "text/plain": [
       "array([[14],\n",
       "       [ 2],\n",
       "       [ 9],\n",
       "       [ 6],\n",
       "       [19],\n",
       "       [ 8],\n",
       "       [15],\n",
       "       [13],\n",
       "       [12],\n",
       "       [11],\n",
       "       [10],\n",
       "       [18],\n",
       "       [ 7],\n",
       "       [16],\n",
       "       [ 5],\n",
       "       [ 4],\n",
       "       [ 3],\n",
       "       [17],\n",
       "       [ 1],\n",
       "       [ 0]], dtype=int64)"
      ]
     },
     "execution_count": 300,
     "metadata": {},
     "output_type": "execute_result"
    }
   ],
   "source": [
    "sorted_indicies"
   ]
  },
  {
   "cell_type": "code",
   "execution_count": 301,
   "metadata": {},
   "outputs": [
    {
     "data": {
      "text/plain": [
       "\"\\r\\nBasic setup and learning how to learn\\r\\nWeb standards and best practices (such as accessibility and cross-browser compatibility)\\r\\nHTML, the language that gives web content structure and meaning\\r\\nCSS, the language used to style web pages\\r\\nJavaScript, the scripting language used to create dynamic functionality on the web\\r\\nTooling that is used to facilitate modern client-side web development.\\r\\n\\r\\nYou can work through sections in order, but each one is also self-contained. For example, if you already know HTML, you can skip ahead to the CSS section.\\r\\nBy the end of the course, you'll have all the tools and practical knowledge necessary to build visually rich Single page Web applications, try your luck with job interviews and kickstart your career as a Front End Developer!\\r\\nAfter completion you'll have touched upon the comprehensive curriculum of a Junior Front End Developer. Try your luck, applying for jobs, getting feedbacks and improving on the solid foundations built during this course!\\r\\nWith the solid foundations acquired in this course, it will be much way easier to approach web articles and resources on Front End Development, armed with the necessary background and lingo to make the most out of them, learn effectively and quickly.\\r\\nWith the basics knowledge out of the way, the world is your oyster! Expand on the foundational knowledge acquired and specialize in further niches AngularJs, EmberJs, Gaming, Full Stack Development\\r\\n\""
      ]
     },
     "execution_count": 301,
     "metadata": {},
     "output_type": "execute_result"
    }
   ],
   "source": [
    "news_train.data[2]"
   ]
  },
  {
   "cell_type": "code",
   "execution_count": 258,
   "metadata": {},
   "outputs": [
    {
     "data": {
      "text/plain": [
       "array([[0.        ],\n",
       "       [0.06444192],\n",
       "       [0.01079077],\n",
       "       [0.26588151],\n",
       "       [0.10953974],\n",
       "       [0.        ],\n",
       "       [0.        ],\n",
       "       [0.        ],\n",
       "       [0.00667336],\n",
       "       [0.26763507],\n",
       "       [0.        ],\n",
       "       [0.        ],\n",
       "       [0.23369575],\n",
       "       [0.        ],\n",
       "       [0.        ],\n",
       "       [0.14934626],\n",
       "       [0.12557611],\n",
       "       [0.14000697],\n",
       "       [0.        ],\n",
       "       [0.        ]])"
      ]
     },
     "execution_count": 258,
     "metadata": {},
     "output_type": "execute_result"
    }
   ],
   "source": [
    "similarity_scores"
   ]
  },
  {
   "cell_type": "code",
   "execution_count": 266,
   "metadata": {},
   "outputs": [
    {
     "data": {
      "text/plain": [
       "array([[0.        ],\n",
       "       [0.        ],\n",
       "       [0.16315791],\n",
       "       [0.        ],\n",
       "       [0.        ],\n",
       "       [0.        ],\n",
       "       [0.03478984],\n",
       "       [0.        ],\n",
       "       [0.0226425 ],\n",
       "       [0.04032682],\n",
       "       [0.        ],\n",
       "       [0.        ],\n",
       "       [0.        ],\n",
       "       [0.        ],\n",
       "       [0.24236576],\n",
       "       [0.        ],\n",
       "       [0.        ],\n",
       "       [0.        ],\n",
       "       [0.        ],\n",
       "       [0.02694342]])"
      ]
     },
     "execution_count": 266,
     "metadata": {},
     "output_type": "execute_result"
    }
   ],
   "source": [
    "cosine_similarity(X_train_tfidf,j)"
   ]
  },
  {
   "cell_type": "code",
   "execution_count": 303,
   "metadata": {},
   "outputs": [],
   "source": [
    "sorted_indicies = np.argsort(cosine_similarity(X_train_tfidf,j), axis = 0)[::-1]"
   ]
  },
  {
   "cell_type": "code",
   "execution_count": 304,
   "metadata": {},
   "outputs": [
    {
     "data": {
      "text/plain": [
       "array([[14],\n",
       "       [ 2],\n",
       "       [ 9],\n",
       "       [ 6],\n",
       "       [19],\n",
       "       [ 8],\n",
       "       [15],\n",
       "       [13],\n",
       "       [12],\n",
       "       [11],\n",
       "       [10],\n",
       "       [18],\n",
       "       [ 7],\n",
       "       [16],\n",
       "       [ 5],\n",
       "       [ 4],\n",
       "       [ 3],\n",
       "       [17],\n",
       "       [ 1],\n",
       "       [ 0]], dtype=int64)"
      ]
     },
     "execution_count": 304,
     "metadata": {},
     "output_type": "execute_result"
    }
   ],
   "source": [
    "sorted_indicies"
   ]
  },
  {
   "cell_type": "code",
   "execution_count": 302,
   "metadata": {},
   "outputs": [
    {
     "data": {
      "text/plain": [
       "array([[0.        ],\n",
       "       [0.        ],\n",
       "       [0.16315791],\n",
       "       [0.        ],\n",
       "       [0.        ],\n",
       "       [0.        ],\n",
       "       [0.03478984],\n",
       "       [0.        ],\n",
       "       [0.0226425 ],\n",
       "       [0.04032682],\n",
       "       [0.        ],\n",
       "       [0.        ],\n",
       "       [0.        ],\n",
       "       [0.        ],\n",
       "       [0.24236576],\n",
       "       [0.        ],\n",
       "       [0.        ],\n",
       "       [0.        ],\n",
       "       [0.        ],\n",
       "       [0.02694342]])"
      ]
     },
     "execution_count": 302,
     "metadata": {},
     "output_type": "execute_result"
    }
   ],
   "source": [
    "cosine_similarity(X_train_tfidf,j.toarray())"
   ]
  },
  {
   "cell_type": "code",
   "execution_count": 305,
   "metadata": {},
   "outputs": [],
   "source": [
    "l=j.toarray()"
   ]
  },
  {
   "cell_type": "code",
   "execution_count": 310,
   "metadata": {},
   "outputs": [
    {
     "data": {
      "text/plain": [
       "array([0, 0, 0, ..., 0, 0, 0])"
      ]
     },
     "execution_count": 310,
     "metadata": {},
     "output_type": "execute_result"
    }
   ],
   "source": [
    "np.frombuffer(l.tostring(),dtype='int')"
   ]
  },
  {
   "cell_type": "code",
   "execution_count": 23,
   "metadata": {},
   "outputs": [
    {
     "data": {
      "text/plain": [
       "{'data': ['Backend development (also stylized as back-end or back end development) is the skill that powers the web. Yet it does it modestly, without fanfareâ\\x80\\x94allowing people to browse their favorite sites without even knowing about all the work put in by the backend developer or team.\\r\\nFront-end Vs Backend Programming\\r\\n\\r\\nIntuitively, the other side of backend development is the front end. \\r\\n\\r\\nThe key difference is that while backend developers build how a website functions, front-end programmers build and design the interface, determining how the site looks to users. \\r\\n\\r\\nBackend web development lays the foundational code that enables websites to process the actions that users take on the front end and deliver the correct information in return.\\r\\nPHP powers 78.2% of all websites whose server-side programming language we know. The language was first released in 1995 when there were few options for building dynamic websites.\\r\\nwebsite website \\r\\nASP.NET is Microsoftâ\\x80\\x99s answer to Sun Microsystemâ\\x80\\x99s (now, Oracle) Java. The web application framework is used to build websites using languages like Visual Basic (VB), C#, F#, and more.\\r\\n\\r\\nIts MVC (Model-View-Controller) architectural pattern allows backend development duties to be handled by a controller, which interacts with a model to process data. The result is then presented to the view for display as a frontend web page.\\r\\nRuby on Rails (or Ruby) is a web development language built on top of the Ruby programming language. Ruby on Rails has a set of tools that allow you to simply create basic tasks (e.g. youâ\\x80\\x99re able to create a basic blog with one line of code).\\r\\n\\r\\nRuby involves little backend work, enabling developers to create and launch applications quickly. It is similar to Python in that itâ\\x80\\x99s fantastic for prototyping. Ruby grew in popularity in the early 2000s as a result but has declined since then.\\r\\nwebsite web websites\\r\\nNot to be confused with Java, JavaScript is a language that can be used for both the front end and back end.\\r\\n\\r\\nItâ\\x80\\x99s a great language for beginners because it is a higher-level language and there is little setup involved (you can start coding in your browser).\\r\\nAs you would probably already be aware, in a typical client-server architecture, application data is stored in the server-side and served as output to the client-side. The server-side working of a web application is known as backend. Thatâ\\x80\\x99s where all the inner working of web applications takes place, and thatâ\\x80\\x99s where the work of backend developers lies.\\r\\n',\n",
       "  'Classification is a large domain in the field of statistics and machine learning. Generally, classification can be broken down into two areas:\\r\\n\\r\\n    Binary classification, where we wish to group an outcome into one of two groups.\\r\\n\\r\\n    Multi-class classification, where we wish to group an outcome into one of multiple (more than two) groups.\\r\\n\\r\\nIn this post, the main focus will be on using a variety of classification algorithms across both of these domains, less emphasis will be placed on the theory behind them.\\r\\n\\r\\nWe can use libraries in Python such as scikit-learn for machine learning models, and Pandas to import data as data frames.\\r\\n\\r\\n\\r\\nFor binary classification, we are interested in classifying data into one of two binary groups - these are usually represented as 0\\'s and 1\\'s in our data.\\r\\n\\r\\nWe will look at data regarding coronary heart disease (CHD) in South Africa. The goal is to use different variables such as tobacco usage, family history, ldl cholesterol levels, alcohol usage, obesity and more.\\r\\n\\r\\nA full description of this dataset is available in the \"Data\" section of the Elements of Statistical Learning website.\\r\\n\\r\\nThe code below reads the data into a Pandas data frame, and then separates the data frame into a y vector of the response and an X matrix of explanatory.\\r\\nLogistic Regression\\r\\n\\r\\nLogistic Regression is a type of Generalized Linear Model (GLM) that uses a logistic function to model a binary variable based on any kind of independent variables.\\r\\n\\r\\nTo fit a binary logistic regression with sklearn, we use the LogisticRegression module with multi_class set to \"ovr\" and fit X and y.\\r\\n\\r\\nWe can then use the predict method to predict probabilities of new data, as well as the score method to get the mean prediction accuracy:\\r\\nSupport Vector Machines\\r\\n\\r\\nSupport Vector Machines (SVMs) are a type of classification algorithm that are more flexible - they can do linear classification, \\r\\nbut can use other non-linear basis functions. The following example uses a linear classifier to fit a hyperplane that separates the data into two classes:\\r\\nNeural Networks\\r\\n\\r\\nNeural Networks are a machine learning algorithm that involves fitting many hidden layers used to represent neurons that are connected with synaptic activation functions. These essentially use a very simplified model of the brain to model and predict data.\\r\\n\\r\\nWe use sklearn for consistency in this post, however libraries such as Tensorflow and Keras are more suited to fitting and customizing neural networks, of which there are a few varieties used for different purposes:',\n",
       "  \"\\r\\nBasic setup and learning how to learn\\r\\nWeb standards and best practices (such as accessibility and cross-browser compatibility)\\r\\nHTML, the language that gives web content structure and meaning\\r\\nCSS, the language used to style web pages\\r\\nJavaScript, the scripting language used to create dynamic functionality on the web\\r\\nTooling that is used to facilitate modern client-side web development.\\r\\n\\r\\nYou can work through sections in order, but each one is also self-contained. For example, if you already know HTML, you can skip ahead to the CSS section.\\r\\nBy the end of the course, you'll have all the tools and practical knowledge necessary to build visually rich Single page Web applications, try your luck with job interviews and kickstart your career as a Front End Developer!\\r\\nAfter completion you'll have touched upon the comprehensive curriculum of a Junior Front End Developer. Try your luck, applying for jobs, getting feedbacks and improving on the solid foundations built during this course!\\r\\nWith the solid foundations acquired in this course, it will be much way easier to approach web articles and resources on Front End Development, armed with the necessary background and lingo to make the most out of them, learn effectively and quickly.\\r\\nWith the basics knowledge out of the way, the world is your oyster! Expand on the foundational knowledge acquired and specialize in further niches AngularJs, EmberJs, Gaming, Full Stack Development\\r\\n\",\n",
       "  '\\r\\nBlockchain is a specific type of database.\\r\\nIt differs from a typical database in the way it stores information; blockchains store data in blocks that are then chained together. \\r\\nAs new data comes in it is entered into a fresh block. Once the block is filled with data it is chained onto the previous block, which makes the data chained together in chronological order.\\r\\nDifferent types of information can be stored on a blockchain but the most common use so far has been as a ledger for transactions. \\r\\nIn Bitcoinâ\\x80\\x99s case, blockchain is used in a decentralized way so that no single person or group has controlâ\\x80\\x94rather, all users collectively retain control.\\r\\nDecentralized blockchains are immutable, which means that the data entered is irreversible. For Bitcoin, this means that transactions are permanently recorded and viewable to anyone.\\r\\nDapps dapps smart contract\\r\\nBlockchain seems complicated, and it definitely can be, but its core concept is really quite simple. A blockchain is a type of database. To be able to understand blockchain, it helps to first understand what a database actually is.  \\r\\netherium\\r\\nBecause of the decentralized nature of Bitcoinâ\\x80\\x99s blockchain, all transactions can be transparently viewed by either having a personal node or by using blockchain explorers that allow anyone to see transactions occurring live. \\r\\nEach node has its own copy of the chain that gets updated as fresh blocks are confirmed and added. \\r\\nThis means that if you wanted to, you could track Bitcoin wherever it goes.  \\r\\nBlockchain technology accounts for the issues of security and trust in several ways. First, new blocks are always stored linearly and chronologically. \\r\\nThat is, they are always added to the â\\x80\\x9cendâ\\x80\\x9d of the blockchain. If you take a look at Bitcoinâ\\x80\\x99s blockchain, youâ\\x80\\x99ll see that each block has a position on the chain, called a â\\x80\\x9cheight.â\\x80\\x9d \\r\\nAs of November 2020, the blockâ\\x80\\x99s height had reached 656,197 blocks so far.  \\r\\nBlockchain forms the bedrock for cryptocurrencies like Bitcoin. The U.S. dollar is controlled by the Federal Reserve. Under this central authority system, a userâ\\x80\\x99s data and currency are technically at the whim of their bank or government. If a userâ\\x80\\x99s bank is hacked, the clientâ\\x80\\x99s private information is at risk\\r\\nUsing cryptocurrency wallets for savings accounts or as a means of payment is especially profound for those who have no state identification. Some countries may be war-torn or have governments that lack any real infrastructure to provide identification. Citizens of such countries may not have access to savings or brokerage accounts and therefore, no way to safely store wealth. \\r\\nA smart contract is a computer code that can be built into the blockchain to facilitate, verify, or negotiate a contract agreement. Smart contracts operate under a set of conditions that users agree to. When those conditions are met, the terms of the agreement are automatically carried out. \\r\\nAs mentioned, blockchain could be used to facilitate a modern voting system. Voting with blockchain carries the potential to eliminate election fraud and boost voter turnout, as was tested in the November 2018 midterm elections in West Virginia.Using blockchain in this way would make votes nearly impossible to tamper with',\n",
       "  'Learn how to build a blockchain app using Ethereum smart contracts in this video course from Dapp University.\\r\\nA smartcontract is a collection of code and data that resides at a specific address on the Ethereum blockchain.\\r\\nSo you wanna build a smart contract? Perhaps you want to understand how they work, maybe you want to build your own Dapp, maybe you want to launch the very first billion dollar ICO (sarcasm)... Regardless of your intentions, learning how smart contracts work is invaluable.\\r\\nThe Ethereum platform possesses enormous potential to create Dapps that could change the way we interact on the web in the decades to come. While Ethereum deploys smart contracts that work much like a standard blockchain transaction, they yield a conditional statement that must be met before a function(s) is executed. Smart contracts can be used for voting, crowdfunding, blind auctions, multi-signature wallets and MUCH more.\\r\\nEthereum Nodes\\r\\nBuilding A Private Blockchain Network\\r\\nMetaMask Browser Plug In\\r\\nMist Browser\\r\\nEthereum Wallet\\r\\nWeb3 Ethereum JavaScript API\\r\\nRemix Web Browser IDE\\r\\nGeth (Go Ethereum) Command Line Interface\\r\\nSolidity Programming Language\\r\\nMetaMask is both an Ethereum browser and a wallet. Through MetaMask you can interact with Dapps and smart contracts on the web without having to download the blockchain or install any software. You simply add MetaMask to  as an extensions, create a wallet, and deposit ether. While currently only available for expect to see a launch for Firefox in the near future.\\r\\nBtw I wrote a book about Ethereum development to learn solidity from scratch where youâ\\x80\\x99ll learn the most important concepts for becoming an Ethereum Developer fast. Check it out here, free for kindle unlimited usNQ',\n",
       "  '\\r\\n\\r\\nIs now a good time to become a web developer\\r\\nWhat is web development?\\r\\nA brief history of the World Wide Web\\r\\nWhat does a web developer do?\\r\\nProgramming languages, libraries and frameworks\\r\\nWhat does it take to become a web developer?\\r\\n\\r\\nFeel free to skip ahead using the clickable menu\\r\\nWeb development is the process of building websites and applications for the internet, or for a private network known as an intranet.\\r\\nWeb development is not concerned with the design of a website;\\r\\nrather, itâ\\x80\\x99s all about the coding and programming that powers the websiteâ\\x80\\x99s functionality.\\r\\n\\r\\nClient-side scripting, or frontend development, refers to everything that the end user experiences directly. \\r\\nClient-side code executes in a web browser and directly relates to what people see when they visit a website. Things like layout, fonts, colours, menus and contact forms are all driven by the frontend.\\r\\nServer-side scripting, or backend development, is all about what goes on behind the scenes. The backend is essentially the part of a website that the user doesnâ\\x80\\x99t actually see. It is responsible for storing and organizing data',\n",
       "  'If you are interested in programming for Android, you will need at least basic understanding of how to program in Java. Android programming is done using Java syntax, plus a class library that resembles a subset of the Java SE library (plus Android-specific extensions). \\r\\nIf you have not programmed in Java before, you probably should quick learn how that works before attempting to dive into programming for Android. \\r\\nThe book does not cover in any detail how to download or install the Android development tools, either the Eclipse IDE flavor or the standalone flavor. The Android Web site covers this quite nicely. \\r\\nThe material in the book should be relevant whether you use the IDE or not. You should download, install, \\r\\nand test out the Android development tools from the Android Web site before trying any of the examples listed in this book.\\r\\nTo jump start your Android development, download theAndroid SDK (for Linux) from http://code.google.com/android/download.html. It includes sample projects withsource code, development tools, an emulator, and ofcourse all the libraries youâ\\x80\\x99ll need to build an Androidapplication.Developing Android applicationsYou can develop Android applications with the same high-quality tools you use to develop Java applications. \\r\\nTheAndroid core libraries provide the functionality needed tobuild some amazingly rich mobile applications, and theAndroid development tools make running, debugging andtesting your applications a snap.\\r\\nYou can either use the Eclipse IDE (http://www.eclipse.org) or the command line tools available withthe SDK to develop your Android app.Android development with EclipseLife is made a lot simpler with the Eclipse plug-in forAndroid development, called the Android DevelopmentTools (ADT). It basically brings the power of the IDE toAndroid development. Refer to http://code.google.com/android/adt_download.html for download and installationinstructions.\\r\\nAndroid development sans EclipseThe Android SDK is bundled with all the tools to enablenon-Eclipse users to write their Android application. Inorder to do so, navigate to the â\\x80\\x98tools/â\\x80\\x99 folder in theextracted Android SDK folder. There is a Python scriptcalled activityCreator.py. \\r\\nYou get the following terminaloutput when you run the scrip\\r\\nThe emulator is essentially meant to test your Androidapplications. It resides under the â\\x80\\x98tools/â\\x80\\x99 directory. Forinstructions on how you can test your just-developedAndroid application on the emulator, please refer to theAndroid SDK documentation. The emulator also shipswith a plethora of applications like a browser, a cooler-than-traditional phonebook and a map application, amongother features. So, even if you have not yet written anAndroid application, the emulator is a must checkout.\\r\\nt is still a matter of speculation as to when Androidwill make it into mainstream mobile phones, but it isdefinitely on its way and deserves a serious look from thedevelopers. The Android SDK documentation is extensive\\r\\nmobile application \\r\\nandroid app\\r\\nsdk\\r\\nkotlin\\r\\ndart\\r\\nflutter\\r\\nflutter\\r\\nflutter\\r\\nflutter',\n",
       "  \"Like  real  clouds  which  are  the  collection  of  water  molecules,  the  term   Ì³cloudâ\\x80\\x98  in  cloud  computing  is  the collection of networks. The user can use the modalities of cloud computing boundlessly whenever demanded. Instead of setting up their own physical infrastructure, the users ordinarily prefer a mediator provider for the service of the internet in cloud computing. \\r\\nThe users have to pay only for the services they had used . The workload can be shifted to reduce the workload in cloud computing. A load of service is handled by the networks which forms the cloud that's why the load on local computers is not heavy while running an application [1]. So the requisition of hardware and software at the user side  is decreased.  All we need to have a web browser to use cloud computing. \\r\\nAll we  need to have a web  browser  like chrome to use cloud computing. Following are the key features of cloud computing: \\r\\nResource Pooling and Elasticity  Self-Service and On-Demand Services I.III Pricing I.IV Quality of Service  There  are  three  services  provided  by  cloud  computing  that  are  Software  as  a  Service  (SaaS),  Platform  as  a Service  (PaaS)  and  Infrastructure  as  a  Service  (IaaS) .  \\r\\nThe  basic  examples  of  cloud  computing  which are  used  by general people in daily life are Facebook, YouTube, Dropbox, and Gmail etc. It offers scalability, flexibility, agility, and simplicity that's why its use is rapidly increasing in the enterprises.  \\r\\nNetwork of Cloud  .  EVOLUTION OF CLOUD COMPUTING One day in a speech at MIT around in 1960 John McCarthy indicated that like water and electricity, computing can also be sold like a utility. And in 1999, the Salesforce Company started distributing the applications to the customers \\r\\n Public Cloud: The public cloud is a computing service supplied by the third party providers atop the public internet [6]. These services are available  for any user who wants to use them and they  have to pay only  for the services they consumed.\\r\\n Private  Cloud: The  computing  services  provided  over  the  internet  or  private  network  come  under  the private cloud and these services are offered only to the selected users in place of common people \\r\\nA higher security and privacy is delegated by private clouds through the firewall and internal hosting .\\r\\n Hybrid  Cloud: Hybrid  cloud  is  the  combination  of  public  cloud  and  private  cloud.\\r\\n  In  the  hybrid  cloud, each cloud can be managed independently but data and applications can be shared among the clouds in the hybrid cloud\",\n",
       "  'Although, you can use both Kotlin and Java to  native android apps, Google announced in 2019 to make Kotlin the preferred way of developing android applications. \\r\\nIf you were to start learning android development today, Kotlin should be your language of choice.\\r\\nAndroid is an open source and Linux-based operating system for mobile devices such as smartphones and tablet computers. Android was developed by the Open Handset Alliance, led by Google, and other companies.\\r\\nThis  will teach you basic Android programming and will also take you through some advance concepts related to Android application development.\\r\\nThis  has been prepared for the beginners to help them understand basic Android programming. After completing this tutorial you will find yourself at a moderate level of expertise in Android programming from where you can take yourself to next levels.\\r\\nAndroid programming is based on Java programming language so if you have basic understanding on Java programming then it will be a fun to learn Android application development.\\r\\n\\r\\nIntroduction to Android development with Android Studio\\r\\n\\r\\nAndroid Development with Android Studio\\r\\nAndroid Development with Kotlin\\r\\n\\t\\r\\nAndroid Intents\\r\\n\\r\\nAndroid application and activity life cycle\\r\\n\\r\\nThe Android permissions model\\r\\n\\r\\nUsing lists and grids in Android with RecylerView\\r\\n\\r\\nUsing Databinding in Android applications\\r\\n\\r\\nUsing lists in Android (ListView)\\r\\n\\r\\nAndroid Logging\\r\\n\\r\\n',\n",
       "  'machine learning today is not like machine learning of the past. It was born from pattern recognition and the theory that computers can learn without being programmed to perform specific tasks; researchers interested in artificial intelligence wanted to see if computers could learn from data. The iterative aspect of machine learning is important because as models are exposed to new data, they are able to independently adap\\r\\nWhile many machine learning algorithms have been around for a long time, the ability to automatically apply complex mathematical calculations to big data â\\x80\\x93 over and over, faster and faster â\\x80\\x93 is a recent development. Here are a few widely publicized examples of machine learning applications you may be familiar with\\r\\nResurging interest in machine learning is due to the same factors that have made data mining and Bayesian analysis more popular than ever. Things like growing volumes and varieties of available data, computational processing that is cheaper and more powerful, and affordable data storage.\\r\\n\\r\\nAll of these things mean it\\'s possible to quickly and automatically produce models that can analyze bigger, more complex data and deliver faster, more accurate results â\\x80\\x93 even on a very large scale. And by building precise models, an organization has a better chance of identifying profitable opportunities â\\x80\\x93 or avoiding unknown risks.\\r\\nMachine learning ML is the study of computer algorithms that improve automatically through experience and by the use of data. \\r\\nIt is seen as a part of artificial intelligence.\\r\\n Machine learning algorithms build a model based on sample data, known as \"training data\", in order to make predictions or decisions without being explicitly programmed to do so\\r\\nMachine learning algorithms are used in a wide variety of applications, such as in medicine, email filtering, and computer vision, where it is difficult or unfeasible to  conventional algorithms to perform the needed tasks. \\r\\nA subset of machine learning is closely related to computational statistics, which focuses on making predictions using  but not all machine learning is statistical learning. The study of mathematical optimization delivers methods, theory and application domains to the field of machine learning. Data mining is a related field of study, focusing on exploratory data analysis through unsupervised learning.\\r\\nIn its application across business problems,\\r\\n\\r\\n\\r\\nArtificial intelligence\\r\\nData mining\\r\\nOptimization\\r\\n\\r\\nStatistics\\r\\n\\r\\n Supervised learning\\r\\n Unsupervised learning\\r\\nSemi-supervised learning\\r\\n Reinforcement learning\\r\\n Dimensionality Reduction\\r\\nOther types\\r\\n Models\\r\\n  Training models machine learning is also referred to as predictive analytics. ',\n",
       "  'We are excited to announce that Android Studio 4.2 is now available to download in the stable release channel. \\r\\nThe focus areas for this release is an upgraded IntelliJ platform and a handful of new features centered around improving your productivity as an Android app developer. \\r\\nWe know sometimes upgrading your app project to the latest version can be complicated. To address this, \\r\\nwe have a new app project upgrade assistant in Android Studio 4.2 that makes it easier to migrate your project and to take advantage of the latest Android Gradle Plugin APIs.\\r\\nAdditionally, we have added a whole range of enhancements to the existing features like the Database Inspector, System Trace, SafeArgs support, Apply Changes, the new project wizard and more. \\r\\nIf you use these features and you are looking for the next stable version of Android Studio, \\r\\nyou should download Android Studio 4.2 today! \\r\\nNative development for Android devices consists of this basic toolset: an SDK, IDEs, programming languages, libraries, and plugins. Letâ\\x80\\x99s see what products you can use to form your own tech stack.\\r\\n\\r\\nSoftware Development Kit. An SDK is a bundle of tools that comprises an executable program. This includes documentation, debuggers, emulators, frameworks, libraries, profilers, and more. Android SDK is already included in Android Studio, but if you want to use another IDE, \\r\\nyou can download it separately at the bottom of the linked page.\\r\\n\\r\\nEditors and IDEs. In theory, you can write Android apps in a regular text editor or command line, but the common approach is using an Integrated Development Environment. This tool integrates all SDK tools and helps to manage them more easily and in a more user-friendly manner.\\r\\nAndroid Studio is the official Android IDE, but other options are also popular.\\r\\n Eclipse is Studioâ\\x80\\x99s predecessor that can use plugins to expand the code to more languages. IntelliJ IDEA is a paid but highly customizable option.',\n",
       "  'Simply put, cloud computing is the delivery of computing servicesâ\\x80\\x94including servers, storage, databases, networking, software, analytics, and intelligenceâ\\x80\\x94over the Internet (â\\x80\\x9cthe cloudâ\\x80\\x9d) to offer faster innovation, flexible resources, and economies of scale. You typically pay only for cloud services you use, helping lower your operating costs, run your infrastructure more efficiently and scale as your business needs change.\\r\\nmicrosoft azure azure azure aws aws aws aws gcp cloud gcp\\r\\not all clouds are the same and not one type of cloud computing is right for everyone. Several different models, types and services have evolved to help offer the right solution for your needs.\\r\\n\\r\\nFirst, you need to determine the type of cloud deployment or cloud computing architecture, that your cloud services will be implemented on. There are three different ways to deploy cloud services: on a public cloud, private cloud or hybrid cloud. Learn more about public, private and hybrid clouds.\\r\\nInfrastructure as a service (IaaS)\\r\\n\\r\\nThe most basic category of cloud computing services. With IaaS, you rent IT infrastructureâ\\x80\\x94servers and virtual machines (VMs), storage, networks, operating systemsâ\\x80\\x94from a cloud provider on a pay-as-you-go basis.\\r\\nPlatform as a service (PaaS)\\r\\n\\r\\n',\n",
       "  'You node have a file of transactions on your computer ledger Two government accountants (let\\'s call them miners have the same file on theirs so itâ\\x80\\x99s distributed As you make a transaction, your computer sends an e-mail to each accountant to inform them.\\r\\n\\r\\nEach accountant rushes to be the first to check whether you can afford it and be paid their salary Bitcoins The first to check and validate hits â\\x80\\x9cREPLY ALLâ\\x80\\x9d, attaching their logic for verifying the transaction proof of work\\r\\n \\r\\nIf the other accountant agrees, everyone updates their file\\r\\n\\r\\nThis concept is enabled by \"Blockchain\" technology\\r\\nBlockchain is a system of recording information in a way that makes it difficult or impossible to change, hack, or cheat the system.\\r\\n\\r\\nA blockchain is essentially a digital ledger of transactions that is duplicated and distributed across the entire network of computer systems on the blockchain. Each block in the chain contains a number of transactions, and every time a new transaction occurs on the blockchain,\\r\\na record of that transaction is added to every participantâ\\x80\\x99s ledger. The decentralised database managed by multiple participants is known as Distributed Ledger Technology (DLT)\\r\\nBlockchain\\r\\nBlockchain applications\\r\\nBlockchain technologies\\r\\nCryptocurrency\\r\\nBlockchain security\\r\\nBitcoin\\r\\nBitcoin security\\r\\nFinTech\\r\\nDigital currencies\\r\\nDistributed ledger technologies\\r\\nSmart contracts\\r\\nPermissioned ledgers\\r\\nEtherium\\r\\netherium',\n",
       "  \"flutter dart kotlin java android app \\r\\nAndroid is a open source mobile operating system basedon  Linux  kernel  developed  by  Google  of  OHA_(OpenHandset  Alliance)  to  develop  Android  mobile  apps2.To  develop  Android  mobile  apps,\\r\\na  set  of  tools  that  areincluded  in  the  Android  SDK  are  needed\\r\\nDuring  Setup  phase  we  install  and  set  up  our \\r\\n   environment   We   also   create   AVDs (Android   Virtual   Devices)   and   connect   hardware devices, on which we can install our applications.Development: During Development phase we prepare  and  develop  our  Android  project,  which  contains  all of the source code ands resource files for our applica-tion.Testing and Verifying\\r\\n During this phase we build our project  into  an  .apk  package,  which  is  installed  and running on the emulator for debugging.Publishing:  During  this  phase  we  prepare  and  build \\r\\n our   application   for   release   and   distribute   release version of our application to users.\\r\\n\\r\\nHow to use Android Studio to build your app.\\r\\nHow to run your app on a device or in the emulator.\\r\\nHow to add interactive buttons.\\r\\nHow to display a second screen when a button is pressed.\\r\\nou write Android apps in the Java programming language using an IDE called Android Studio. Based on JetBrains' IntelliJ IDEA software, Android Studio is an IDE designed specifically for Android development.\\r\\nAndroid Studio provides a complete IDE, including an advanced code editor and app templates. It also contains tools for development, debugging, testing, and performance that make it faster and easier to develop apps. You can use Android Studio to test your apps with a large range of preconfigured emulators, or on your own mobile device. You can also build production apps and publish apps on the Google Play store.\\r\\n\\r\\n How to create a project in Android Studio.\\r\\nHow to create an emulated Android device.\\r\\nHow to run your app on the emulator.\\r\\nHow to run your app on your own physical device, if you have one.\\r\\n\\r\\n\",\n",
       "  '\\r\\n\\r\\nEvery Web Developer must have a basic understanding of HTML, CSS, and JavaScript.\\r\\n\\r\\nResponsive Web Design is used in all types of modern web development.\\r\\n\\r\\nECMAScript 5 (JavaScript 5) is supported in all modern browsers. Take a good look at it, especially the new array functions.\\r\\n\\r\\n\\r\\nWhen you feel comfortable with HTML and CSS, it is time to dig deeper.\\r\\n\\r\\nYou should learn how to use Maps, Fonts and Icons in HTML.\\r\\n\\r\\nOn the JavaScript side, you should learn how to access the HTML DOM.\\r\\n\\r\\nYou should also learn how to use AJAX and JSON for making server requests.\\r\\n\\r\\n\\r\\nNow it is time to look at some Frameworks.\\r\\n\\r\\nOn the CSS side you should choose a framework for reponsive web design:\\r\\nBootstrap    Material Design    W3.CSS\\r\\n\\r\\nOn the JavaScript side you should learn at least one modern framework:\\r\\nReact.js    Angular.js    Vue.js     W3.JS\\r\\n\\r\\nMaybe the popularity of jQuery has passed the top, but it is still the most used JavaScript framework.\\r\\n\\r\\nNode.js backend frontend\\r\\nfullstack\\r\\n\\r\\nProgram a browser like using JavaScript, jQuery, Angular, or Vue\\r\\nProgram a server like using PHP, ASP, Python, or Node\\r\\nProgram a database like using SQL, SQLite, or MongoDB\\r\\n\\r\\nLAMP stack JavaScript    Apache    PHP\\r\\nLEMP stack JavaScript    Nginx    PHP\\r\\nMEAN stack JavaScript  MongoDB  Express  AngularJS  Node.js\\r\\nDjango stack JavaScript  Python  Django  \\r\\nRuby on Rails JavaScript  Ruby  SQLite  Rails\\r\\n\\r\\n',\n",
       "  'Applications that use blockchain are called dApps (Decentralised Applications). Looking around today, weâ\\x80\\x99ll mostly find decentralized apps in fintech, but blockchain goes beyond decentralized finance. We have health platforms, music streaming/sharing platforms, e-commerce platforms, cybersecurity platforms, and IOTs moving towards decentralized applications (dApps) as cited above.\\r\\n\\r\\nSo, when would it make sense to consider using blockchain for our applications, rather than a standard database or record?\\r\\n\\r\\n',\n",
       "  '\\r\\n\\r\\nArtificial intelligence\\r\\nData mining\\r\\nOptimization\\r\\n\\r\\nStatistics\\r\\n\\r\\n Supervised learning\\r\\n Unsupervised learning\\r\\nSemi-supervised learning\\r\\n Reinforcement learning\\r\\n Dimensionality Reduction\\r\\nOther types\\r\\n Models\\r\\n  Training models',\n",
       "  'Document/Text classification is one of the important and typical task in supervised machine learning (ML). Assigning categories to documents, which can be a web page, library book, media articles, gallery etc. has many applications like e.g. spam filtering, email routing, sentiment analysis etc. In this article, \\r\\nI would like to demonstrate how we can do text classification using python, \\r\\nscikit-learn and little bit of NLTK.\\r\\n\\r\\nrerequisite and setting up the environment.\\r\\nLoading the data set in jupyter.\\r\\nExtracting features from text files.\\r\\nRunning ML algorithms.\\r\\nGrid Search for parameter tuning.\\r\\nUseful tips and a touch of NLTK.\\r\\n\\r\\n\\r\\nArtificial intelligence\\r\\nData mining\\r\\nOptimization\\r\\n\\r\\nStatistics\\r\\n\\r\\n Supervised learning\\r\\n Unsupervised learning\\r\\nSemi-supervised learning\\r\\n Reinforcement learning\\r\\n Dimensionality Reduction\\r\\nOther types\\r\\n Models\\r\\n  Training models\\r\\n\\r\\nText files are actually series of words (ordered). In order to run machine learning algorithms we need to convert the text files into numerical feature vectors.\\r\\n We will be using bag of words model for our example. Briefly, we segment each text file into words (for English splitting by space), and count # of times each \\r\\nword occurs in each document and finally assign each word an integer id. Each unique word in our dictionary will correspond to a feature (descriptive feature).\\r\\nhere are various algorithms which can be used for text classification. We will start with the most simplest one â\\x80\\x98Naive Bayes \\r\\n\\r\\nYou can easily build a NBclassifier in scikit using below 2 lines of code.\\r\\n\\r\\nThe dataset used in this article is the Cleveland Heart Disease dataset taken from the UCI repository.\\r\\nThe code for this article can be found here.\\r\\nThe code is implemented in Python and different classification models are applied.\\r\\n\\r\\nIn this article I will be using the following classification models for classification :\\r\\n\\r\\nSVM\\r\\nNaive Bayes\\r\\nLogistic Regression\\r\\nDecision Tree\\r\\nRandom Forest\\r\\nLightGBM\\r\\nXGboost\\r\\n\\r\\nMachine Learning\\r\\n\\r\\nMachine learning is an emerging subdivision of artificial intelligence. Its primary focus is to design systems, allow them to learn and make predictions based on the experience. It trains machine learning algorithms using a training dataset to create a model.\\r\\nThe model uses the new input data to predict heart disease. Using machine learning, it detects hidden patterns in the input dataset to build models. It makes accurate predictions for new datasets. The dataset is cleaned and missing values are filled. The model uses the new input data to predict heart disease and then tested for accuracy. \\r\\nMachine learning techniques are classified as:\\r\\nSupervised Learning\\r\\n\\r\\nThe model is trained on a dataset that is labelled. It has input data and its outcomes. Data are classified and split into training and test dataset. Training dataset trains our model while testing dataset functions as new data to get accuracy of the model. The dataset exists with models and its output. The classification and regression are its example.\\r\\nUnsupervised Learning\\r\\n\\r\\nData used to train are not classified or labelled in the dataset. Aim is to find hidden patterns in the data. The model is trained to develop patterns. It can easily predict hidden patterns for any new input dataset, but upon exploring data, it draws conclusion from datasets to describe hidden patterns. \\r\\nIn this technique, no responses in the dataset are seen. The clustering method is an example of an unsupervised learning technique.\\r\\nReinforcement Learning\\r\\n\\r\\nIt does not use labelled dataset nor the results are associated with data, thus model learns from the experience. In this technique, the model improves its presentation based on its association with environment and figures out how to discuss its faults and to get the right outcome through assessment and testing various prospects.\\r\\n\\r\\nClassification algorithms are commonly used supervised learning techniques to define probability of heart disease occurrence.\\r\\nClassification Machine Learning Techniques\\r\\n\\r\\nThe classification task is used for prediction of subsequent cases dependent on past information. Many data mining techniques as NaÃ¯ve Bayes, neural network, decision tree have been applied by researchers to have a precision diagnosis in heart disease.\\r\\nThe accuracy given by different techniques varies with number of attributes.\\r\\nThis research provides diagnostic accuracy score for improvement of better health results. \\r\\nWe have used WEKA tool in this research for pre-processing the dataset, which is in ARFF format (attribute-relation file format). Only 14 attributes of all 76 different attributes have been considered for analysis to get precise results.\\r\\nBy comparison and analysis using different algorithms with WEKA tool heart disease can be predicted and treated early and prompt.',\n",
       "  'Platform as a service refers to cloud computing services that supply an on-demand environment for developing, testing, delivering and managing software applications. PaaS is designed to make it easier for developers to quickly create web or mobile apps, without worrying about setting up or managing the underlying infrastructure of servers, storage, network and databases needed for development.\\r\\nServerless computing\\r\\n\\r\\nOverlapping with PaaS, serverless computing focuses on building app functionality without spending time continually managing the servers and infrastructure required to do so. The cloud provider handles the setup, capacity planning and server management for you. Serverless architectures are highly scalable and event-driven, only using resources when a specific function or trigger occurs.\\r\\nSoftware as a service (SaaS)\\r\\n\\r\\nSoftware as a service is a method for delivering software applications over the Internet, on demand and typically on a subscription basis. With SaaS, cloud providers host and manage the software application and underlying infrastructure and handle any maintenance, like software upgrades and security patching. Users connect to the application over the Internet, usually with a web browser on their phone, tablet or PC.\\r\\nOrganizations of every type, size, and industry are using the cloud for a wide variety of use cases, such as data backup, disaster recovery, email, virtual desktops, software development and testing, big data analytics, and customer-facing web applications. For example, healthcare companies are using the cloud to develop more personalized treatments for patients. Financial services companies are using the cloud to power real-time fraud detection and prevention. And video game makers are using the cloud to deliver online games to millions of players around the world. \\r\\n',\n",
       "  'The paper presents an efficient cloud resource provisioning approach. The Software as a Service (SaaS) provider leases resources from cloud providers and also leases software as services to SaaS users. The SaaS providers aim at minimizing the payment of using VMs from cloud providers, and want to maximize the profit earned through serving the SaaS usersâ\\x80\\x99 requests. The SaaS providers also guarantee meeting quality of service (QoS)\\r\\nrequirements of the SaaS users. The cloud provider is to maximize the profit without exceeding the upper bound of energy consumption of cloud provider for provisioning virtual machines (VMs) to the SaaS provider. The SaaS users purpose to obtain the optimized QoS to accomplish their jobs with a limited budget and deadline. The proposed optimal cloud resource provisioning algorithm includes two sub-algorithms at different levels:\\r\\ninteraction between the SaaS user and SaaS provider at the application layer and interaction between the SaaS provider and cloud resource provider at the resource layer. Simulations are conducted to compare the performance of proposed cloud resource provisioning algorithm with related work.\\r\\nCloud computing refers to both the applications delivered as services over the Internet and the hardware and systems software in the datacenters that provide those services [1, 2]. Cloud computing is characterized as making services available on demand [3]. Cloud computing delivers infrastructure, platform, and software (applications) as services, \\r\\nwhich are made available to consumers as subscription-based services under the pay-as-you-go model. In industry these services are referred to as Infrastructure as a Service (IaaS), Platform as a Service (PaaS), and Software as a Service (SaaS), respectively .\\r\\nCloud management is responsible for all resources used by all the applications deployed in the cloud. Clouds depend on virtualization of resources to provide management combined with separation of users.\\r\\n\\r\\nSome cloud computing providers employ the utility computing model, which is analogous to how traditional utility services (such as electricity) are consumed, whereas others bill on a subscription basis. In Amazon EC2, users pay on the basis of number of type of instances they use, where an instance is characterized on basis of parameters like CPU cores, memory, and disk capacity [5, 6]. With a Pay-per-Use model,\\r\\ncloud resource provisioning is taken to satisfy the SaaS userâ\\x80\\x99s needs with reducing cost while maximizing the profit of the SaaS provider. Reducing energy consumption is also important for cloud resource providers to decrease operating costs and maximize the revenue of cloud provider [7, 8, 25]. Therefore, how to serve request of the SaaS user to meet Quality of Service (QoS) needs and maximize the profit of the SaaS provider and cloud resource provider becomes an urgent problem to be solved in cloud computing environment.\\r\\n\\r\\nThe paper presents an efficient cloud resource provisioning approach, which is beneficial for the SaaS users, SaaS provider and cloud resource provider. The SaaS provider leases resources from cloud providers and also leases software as services to the SaaS users. The SaaS providers aim at minimizing the payment of using Virtual Machines (VMs) from cloud providers, and want to maximize the profit earned through serving the SaaS usersâ\\x80\\x99 requests. The SaaS providers also guarantee meeting QoS requirement of the SaaS users.\\r\\nThe cloud provider is to maximize the profit without exceeding the upper bound of energy consumption of cloud provider for provisioning VMs to the SaaS provider. The SaaS users purpose to obtain the optimized QoS to accomplish their jobs with a limited budget and deadline. The proposed optimal cloud resource provisioning algorithm includes two sub-algorithms at different levels:\\r\\ninteraction between the SaaS user and provider at the application layer and interaction between the SaaS provider and cloud resource provider at the resource layer. Simulations are conducted to compare the performance of proposed cloud resource provisioning algorithm with related work.\\r\\n\\r\\nThe rest of the paper is structured as followings. Section 2 discusses the related works. Section 3 presents optimal resources provisioning in cloud computing environment which includes the optimization for interaction between the SaaS provider and cloud resource provider, and the optimization for interaction between the SaaS user and SaaS provider. Section 4 describes optimal resources provisioning algorithm in cloud computing. \\r\\nIn Sect. 5 the experiments and analysis are conducted and discussed. In Sect. 6, an application example is given. Section 7 gives the conclusions to the paper.'],\n",
       " 'filenames': array(['C:/Users/Sanketh/Desktop/newproject/ML part/dataset/train\\\\webdev\\\\3.txt',\n",
       "        'C:/Users/Sanketh/Desktop/newproject/ML part/dataset/train\\\\ML\\\\2.txt',\n",
       "        'C:/Users/Sanketh/Desktop/newproject/ML part/dataset/train\\\\webdev\\\\4.txt',\n",
       "        'C:/Users/Sanketh/Desktop/newproject/ML part/dataset/train\\\\blockchain\\\\1.txt',\n",
       "        'C:/Users/Sanketh/Desktop/newproject/ML part/dataset/train\\\\blockchain\\\\3.txt',\n",
       "        'C:/Users/Sanketh/Desktop/newproject/ML part/dataset/train\\\\webdev\\\\2.txt',\n",
       "        'C:/Users/Sanketh/Desktop/newproject/ML part/dataset/train\\\\android\\\\3.txt',\n",
       "        'C:/Users/Sanketh/Desktop/newproject/ML part/dataset/train\\\\cloud\\\\2.txt',\n",
       "        'C:/Users/Sanketh/Desktop/newproject/ML part/dataset/train\\\\android\\\\1.txt',\n",
       "        'C:/Users/Sanketh/Desktop/newproject/ML part/dataset/train\\\\ML\\\\3.txt',\n",
       "        'C:/Users/Sanketh/Desktop/newproject/ML part/dataset/train\\\\android\\\\2.txt',\n",
       "        'C:/Users/Sanketh/Desktop/newproject/ML part/dataset/train\\\\cloud\\\\3.txt',\n",
       "        'C:/Users/Sanketh/Desktop/newproject/ML part/dataset/train\\\\blockchain\\\\2.txt',\n",
       "        'C:/Users/Sanketh/Desktop/newproject/ML part/dataset/train\\\\android\\\\4.txt',\n",
       "        'C:/Users/Sanketh/Desktop/newproject/ML part/dataset/train\\\\webdev\\\\1.txt',\n",
       "        'C:/Users/Sanketh/Desktop/newproject/ML part/dataset/train\\\\blockchain\\\\4.txt',\n",
       "        'C:/Users/Sanketh/Desktop/newproject/ML part/dataset/train\\\\ML\\\\4.txt',\n",
       "        'C:/Users/Sanketh/Desktop/newproject/ML part/dataset/train\\\\ML\\\\1.txt',\n",
       "        'C:/Users/Sanketh/Desktop/newproject/ML part/dataset/train\\\\cloud\\\\4.txt',\n",
       "        'C:/Users/Sanketh/Desktop/newproject/ML part/dataset/train\\\\cloud\\\\1.txt'],\n",
       "       dtype='<U74'),\n",
       " 'target_names': ['ML', 'android', 'blockchain', 'cloud', 'webdev'],\n",
       " 'target': array([4, 0, 4, 2, 2, 4, 1, 3, 1, 0, 1, 3, 2, 1, 4, 2, 0, 0, 3, 3]),\n",
       " 'DESCR': None}"
      ]
     },
     "execution_count": 23,
     "metadata": {},
     "output_type": "execute_result"
    }
   ],
   "source": [
    "news_train"
   ]
  },
  {
   "cell_type": "code",
   "execution_count": null,
   "metadata": {},
   "outputs": [],
   "source": []
  }
 ],
 "metadata": {
  "kernelspec": {
   "display_name": "Python 3.7.0 64-bit",
   "language": "python",
   "name": "python37064bitfd9a9f8706b945c08fbf4d2aa0ebbb31"
  },
  "language_info": {
   "codemirror_mode": {
    "name": "ipython",
    "version": 3
   },
   "file_extension": ".py",
   "mimetype": "text/x-python",
   "name": "python",
   "nbconvert_exporter": "python",
   "pygments_lexer": "ipython3",
   "version": "3.7.0"
  }
 },
 "nbformat": 4,
 "nbformat_minor": 2
}
