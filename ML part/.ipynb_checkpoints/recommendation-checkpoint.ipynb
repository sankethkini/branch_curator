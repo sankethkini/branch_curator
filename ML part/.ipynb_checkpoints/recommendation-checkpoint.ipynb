{
 "cells": [
  {
   "cell_type": "code",
   "execution_count": 1,
   "metadata": {},
   "outputs": [],
   "source": [
    "import sklearn.datasets as skd\n",
    "categories = ['android', 'blockchain','cloud', 'ML','webdev']\n",
    "news_train = skd.load_files('C:/Users/Sanketh/Desktop/newproject/ML part/dataset/train', categories= categories, encoding= 'ISO-8859-1')\n",
    "news_test=skd.load_files('C:/Users/Sanketh/Desktop/newproject/ML part/dataset/test',categories= categories, encoding= 'ISO-8859-1')"
   ]
  },
  {
   "cell_type": "code",
   "execution_count": 2,
   "metadata": {},
   "outputs": [],
   "source": [
    "from sklearn.feature_extraction.text import CountVectorizer\n",
    "from sklearn.feature_extraction.text import TfidfTransformer\n",
    "import numpy as np"
   ]
  },
  {
   "cell_type": "code",
   "execution_count": 4,
   "metadata": {},
   "outputs": [
    {
     "data": {
      "text/plain": [
       "(20, 1445)"
      ]
     },
     "execution_count": 4,
     "metadata": {},
     "output_type": "execute_result"
    }
   ],
   "source": [
    "count_vec=CountVectorizer(stop_words='english')\n",
    "X_train_tf=count_vec.fit_transform(news_train.data)\n",
    "X_train_tf.shape"
   ]
  },
  {
   "cell_type": "code",
   "execution_count": 5,
   "metadata": {},
   "outputs": [
    {
     "data": {
      "text/plain": [
       "(20, 1445)"
      ]
     },
     "execution_count": 5,
     "metadata": {},
     "output_type": "execute_result"
    }
   ],
   "source": [
    "transformer=TfidfTransformer()\n",
    "X_train_tfidf=transformer.fit_transform(X_train_tf)\n",
    "X_train_tfidf.shape"
   ]
  },
  {
   "cell_type": "code",
   "execution_count": 6,
   "metadata": {},
   "outputs": [],
   "source": [
    "from sklearn.metrics.pairwise import cosine_similarity"
   ]
  },
  {
   "cell_type": "code",
   "execution_count": 7,
   "metadata": {},
   "outputs": [],
   "source": [
    "X_test=count_vec.transform(news_test.data)\n",
    "X_test_tfidf=transformer.transform(X_test)"
   ]
  },
  {
   "cell_type": "code",
   "execution_count": 67,
   "metadata": {},
   "outputs": [
    {
     "data": {
      "text/plain": [
       "array([[ 3,  1,  8, 19,  0],\n",
       "       [12, 11,  6,  7, 10],\n",
       "       [19, 17, 13, 11,  5],\n",
       "       [18,  3, 10, 18, 13],\n",
       "       [ 4, 19, 18, 13, 12],\n",
       "       [17,  8,  0,  1, 14],\n",
       "       [14,  2,  5,  2,  2],\n",
       "       [ 8,  4,  7,  3,  3],\n",
       "       [15,  5,  4,  4, 17],\n",
       "       [ 5,  6,  9,  5,  1],\n",
       "       [10,  7, 19,  6,  7],\n",
       "       [ 1,  9, 17,  9,  4],\n",
       "       [13, 18, 11,  8,  9],\n",
       "       [ 0, 10, 12, 10, 19],\n",
       "       [ 9, 12, 14, 12,  6],\n",
       "       [ 6, 13, 15, 14,  8],\n",
       "       [ 7, 14, 16, 15, 18],\n",
       "       [11, 15,  3, 16, 11],\n",
       "       [ 2, 16,  2, 17, 15],\n",
       "       [16,  0,  1,  0, 16]], dtype=int64)"
      ]
     },
     "execution_count": 67,
     "metadata": {},
     "output_type": "execute_result"
    }
   ],
   "source": [
    "np.argsort(cosine_similarity(X_train_tfidf,X_test_tfidf),axis = 0)[::-1]"
   ]
  },
  {
   "cell_type": "code",
   "execution_count": 90,
   "metadata": {
    "scrolled": false
   },
   "outputs": [
    {
     "data": {
      "text/plain": [
       "'Backend development (also stylized as back-end or back end development) is the skill that powers the web. Yet it does it modestly, without fanfareâ\\x80\\x94allowing people to browse their favorite sites without even knowing about all the work put in by the backend developer or team.\\r\\nFront-end Vs Backend Programming\\r\\n\\r\\nIntuitively, the other side of backend development is the front end. \\r\\n\\r\\nThe key difference is that while backend developers build how a website functions, front-end programmers build and design the interface, determining how the site looks to users. \\r\\n\\r\\nBackend web development lays the foundational code that enables websites to process the actions that users take on the front end and deliver the correct information in return.\\r\\nPHP powers 78.2% of all websites whose server-side programming language we know. The language was first released in 1995 when there were few options for building dynamic websites.\\r\\nwebsite website \\r\\nASP.NET is Microsoftâ\\x80\\x99s answer to Sun Microsystemâ\\x80\\x99s (now, Oracle) Java. The web application framework is used to build websites using languages like Visual Basic (VB), C#, F#, and more.\\r\\n\\r\\nIts MVC (Model-View-Controller) architectural pattern allows backend development duties to be handled by a controller, which interacts with a model to process data. The result is then presented to the view for display as a frontend web page.\\r\\nRuby on Rails (or Ruby) is a web development language built on top of the Ruby programming language. Ruby on Rails has a set of tools that allow you to simply create basic tasks (e.g. youâ\\x80\\x99re able to create a basic blog with one line of code).\\r\\n\\r\\nRuby involves little backend work, enabling developers to create and launch applications quickly. It is similar to Python in that itâ\\x80\\x99s fantastic for prototyping. Ruby grew in popularity in the early 2000s as a result but has declined since then.\\r\\nwebsite web websites\\r\\nNot to be confused with Java, JavaScript is a language that can be used for both the front end and back end.\\r\\n\\r\\nItâ\\x80\\x99s a great language for beginners because it is a higher-level language and there is little setup involved (you can start coding in your browser).\\r\\nAs you would probably already be aware, in a typical client-server architecture, application data is stored in the server-side and served as output to the client-side. The server-side working of a web application is known as backend. Thatâ\\x80\\x99s where all the inner working of web applications takes place, and thatâ\\x80\\x99s where the work of backend developers lies.\\r\\n'"
      ]
     },
     "execution_count": 90,
     "metadata": {},
     "output_type": "execute_result"
    }
   ],
   "source": [
    "news_train.data[0]"
   ]
  },
  {
   "cell_type": "code",
   "execution_count": 87,
   "metadata": {},
   "outputs": [
    {
     "data": {
      "text/plain": [
       "'backend technology such as nodejs will be used in this project'"
      ]
     },
     "execution_count": 87,
     "metadata": {},
     "output_type": "execute_result"
    }
   ],
   "source": [
    "news_test.data[4]"
   ]
  },
  {
   "cell_type": "code",
   "execution_count": null,
   "metadata": {},
   "outputs": [],
   "source": []
  }
 ],
 "metadata": {
  "kernelspec": {
   "display_name": "Python 3.7.0 64-bit",
   "language": "python",
   "name": "python37064bitfd9a9f8706b945c08fbf4d2aa0ebbb31"
  },
  "language_info": {
   "codemirror_mode": {
    "name": "ipython",
    "version": 3
   },
   "file_extension": ".py",
   "mimetype": "text/x-python",
   "name": "python",
   "nbconvert_exporter": "python",
   "pygments_lexer": "ipython3",
   "version": "3.7.0"
  }
 },
 "nbformat": 4,
 "nbformat_minor": 2
}
